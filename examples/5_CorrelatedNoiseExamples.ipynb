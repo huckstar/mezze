{
 "cells": [
  {
   "cell_type": "code",
   "execution_count": null,
   "metadata": {},
   "outputs": [],
   "source": [
    "import numpy as np\n",
    "import scipy.linalg as la\n",
    "import scipy.signal as si\n",
    "import mezze.channel as ch\n",
    "import matplotlib.pyplot as pl\n",
    "from mezze.random.SchWARMA import ARMA,correlated_error\n",
    "#from scipy.misc import factorial\n",
    "import scipy.optimize as op\n",
    "%matplotlib inline"
   ]
  },
  {
   "cell_type": "code",
   "execution_count": null,
   "metadata": {},
   "outputs": [],
   "source": [
    "# This just checks that the fidelity numbers work regardless of the correlation time\n",
    "err = correlated_error('zrot',corr_time=0,fidelity=.99)\n",
    "fs = np.mean([np.real(c.chi()[0,0]) for c in err.error_stream(10000, as_channel=True)])\n",
    "print(fs)\n",
    "\n",
    "err = correlated_error('zdephasing',corr_time=5,fidelity=.96)\n",
    "fs = np.mean([np.real(c.chi()[0,0]) for c in err.error_stream(10000, as_channel=True)])\n",
    "print(fs)\n",
    "\n",
    "\n",
    "err = correlated_error('depolarizing',corr_time=3,fidelity=.975)\n",
    "fs = np.mean([np.real(c.chi()[0,0]) for c in err.error_stream(10000, as_channel=True)])\n",
    "print(fs)\n",
    "\n",
    "err = correlated_error('amp_damping',corr_time=7,fidelity=.999)\n",
    "fs = np.mean([np.real(c.chi()[0,0]) for c in err.error_stream(10000, as_channel=True)])\n",
    "print(fs)"
   ]
  },
  {
   "cell_type": "markdown",
   "metadata": {},
   "source": [
    "While you can get e.g. PTMs by using `QuantumChannel` objects, the easiest way to interface would be to get parameters directly by setting `as_channel=False` in the `next_err` or `error_stream` methods. The below cells shows how to translate the parameter output of the error to a PTM (c.f. `quantumsim.ptm`).  Note that I use the `rgen` parameter with a constant seed so that you can see that the PTMs generated the two ways are the same."
   ]
  },
  {
   "cell_type": "code",
   "execution_count": null,
   "metadata": {},
   "outputs": [],
   "source": [
    "err = correlated_error('zrot',corr_time=0,fidelity=.99, rgen=np.random.RandomState(0))\n",
    "param = err.next_err(as_channel=False)\n",
    "print(param)\n",
    "print(param, np.cos(np.arccos(np.real(param))*2), np.sin(np.arccos(np.real(param))*2))\n",
    "zrot_ptm = np.diag([1,np.cos(np.arccos(np.real(param))*2),np.cos(np.arccos(np.real(param))*2),1])\n",
    "zrot_ptm[1,2] = np.sin(np.arccos(np.real(param))*2)\n",
    "zrot_ptm[2,1] = -np.sin(np.arccos(np.real(param))*2)\n",
    "#c.f. quantumsim.ptm.rotate_z_ptm(np.arccos(np.real(param))*2)\n",
    "print(zrot_ptm)\n",
    "same_err = correlated_error('zrot',corr_time=0,fidelity=.99, rgen=np.random.RandomState(0))\n",
    "print(same_err.next_err(as_channel=True).ptm())"
   ]
  },
  {
   "cell_type": "code",
   "execution_count": null,
   "metadata": {},
   "outputs": [],
   "source": [
    "err = correlated_error('zdephasing',corr_time=0,fidelity=.99, rgen=np.random.RandomState(0))\n",
    "dephase_param = err.next_err(as_channel=False)\n",
    "print(dephase_param, 2*dephase_param -1)\n",
    "#c.f. quantumsim.ptm.dephasing_ptm(1-(2*dephase_param-1),1-(2*dephase_param-1),0)\n",
    "dephase_ptm = np.diag([1,2*dephase_param-1,2*dephase_param-1,1])\n",
    "print(dephase_ptm)\n",
    "same_err = correlated_error('zdephasing',corr_time=0,fidelity=.99, rgen=np.random.RandomState(0))\n",
    "print(same_err.next_err(as_channel=True).ptm())"
   ]
  },
  {
   "cell_type": "code",
   "execution_count": null,
   "metadata": {},
   "outputs": [],
   "source": [
    "#Depolarizing case\n",
    "err = correlated_error('depolarizing',corr_time=3,fidelity=.975, rgen=np.random.RandomState(0))\n",
    "depol_param = err.next_err(as_channel=False)\n",
    "print(depol_param, depol_param-(1-depol_param)/3)\n",
    "#c.f. quantumsim.ptm.dephasing_ptm(1-(depol_param-(1-depol_param))/3,1-(depol_param-(1-depol_param)/3),1-(depol_param-(1-depol_param)/3))\n",
    "depol_ptm = np.diag([1,depol_param-(1-depol_param)/3,depol_param-(1-depol_param)/3,depol_param-(1-depol_param)/3])\n",
    "print(depol_ptm)\n",
    "same_err  = correlated_error('depolarizing',corr_time=3,fidelity=.975, rgen=np.random.RandomState(0))\n",
    "print(same_err.next_err(as_channel=True).ptm())"
   ]
  },
  {
   "cell_type": "code",
   "execution_count": null,
   "metadata": {},
   "outputs": [],
   "source": [
    "#Damping Case\n",
    "#Depolarizing case\n",
    "err = correlated_error('amp_damping',corr_time=3,fidelity=.975, rgen=np.random.RandomState(0))\n",
    "gamma = err.next_err(as_channel=False)\n",
    "print(gamma, np.sqrt(1-gamma), 1-gamma)\n",
    "damp_ptm = np.diag([1, np.sqrt(1-gamma), np.sqrt(1-gamma), 1-gamma])\n",
    "damp_ptm[3,0] = gamma\n",
    "#c.f. quantumsim.ptm.amp_ph_damping_ptm(gamma,0)\n",
    "print(damp_ptm)\n",
    "same_err  = correlated_error('amp_damping',corr_time=3,fidelity=.975, rgen=np.random.RandomState(0))\n",
    "print(same_err.next_err(as_channel=True).ptm())"
   ]
  },
  {
   "cell_type": "markdown",
   "metadata": {},
   "source": [
    "For `zrot` this returns $exp(i2\\theta)$, for `depolarzing` and `zdephasing` this returns the probability $\\chi_{1,1}$ coefficient, i.e., the probability that the error is the identity map (no error). The errors for the other Paulis can be computed accordingly.  Thus, `zdephasing` and `zrot` can effectively be used to compute dephasing/coherent rotation errors in other dimensions.  For `amp_damping`, the decay parameter $\\gamma$ is returned."
   ]
  },
  {
   "cell_type": "markdown",
   "metadata": {},
   "source": [
    "# Everything Below Here Is Check/Backup for Posterity"
   ]
  },
  {
   "cell_type": "markdown",
   "metadata": {},
   "source": [
    "The below cell proves out the correlation time, defined here using a Gaussian window, such that the correlation time is apprximately the time where the autocorrelation function is equal to $\\exp(-4)$, a standard convention in signal processing."
   ]
  },
  {
   "cell_type": "code",
   "execution_count": null,
   "metadata": {},
   "outputs": [],
   "source": [
    "#Initialize Filters\n",
    "b0 = .02 #markovian\n",
    "corr_times = list(range(1,21))\n",
    "filter_orders = 2*np.array(corr_times)+1\n",
    "\n",
    "bs = [np.array([1.])]+[si.gaussian(fo,std=ct/4.) for ct,fo in zip(corr_times,filter_orders)]\n",
    "bs = [b/np.sqrt(np.sum(b**2))*b0 for b in bs]\n",
    "\n",
    "# for b in bs:\n",
    "#     w, h = si.freqz(b=b, a =[1])\n",
    "#     pl.plot(w/(2*np.pi), 10*np.log10(abs(h)))\n",
    "# pl.legend([1]+cut_offs)\n",
    "# pl.show()\n",
    "\n",
    "max_order = 1000\n",
    "acv = np.zeros((len(bs),max_order))\n",
    "for i,b in enumerate(bs):\n",
    "    bb = np.zeros(max_order)\n",
    "    bb[:len(b)] = b\n",
    "    for tau in range(max_order):\n",
    "        acv[i,tau] = np.sum(bb[:max_order-tau]*bb[tau:])\n",
    "\n",
    "pl.figure()\n",
    "pl.plot(acv.T/acv.T[0])\n",
    "pl.legend([0]+corr_times,)\n",
    "#pl.xscale('log')\n",
    "pl.xlim(0,2*np.max(corr_times))\n",
    "pl.plot([0,2*np.max(corr_times)],[np.exp(-4),np.exp(-4)],'--')\n",
    "pl.yscale('log')\n",
    "pl.ylim([.001,1])\n",
    "pl.grid()\n",
    "pl.ylabel('Autocorrelation')\n",
    "pl.xlabel('Time')\n",
    "pl.show()"
   ]
  }
 ],
 "metadata": {
  "kernelspec": {
   "display_name": "mezzeexport",
   "language": "python",
   "name": "mezzeexport"
  },
  "language_info": {
   "codemirror_mode": {
    "name": "ipython",
    "version": 3
   },
   "file_extension": ".py",
   "mimetype": "text/x-python",
   "name": "python",
   "nbconvert_exporter": "python",
   "pygments_lexer": "ipython3",
   "version": "3.7.3"
  }
 },
 "nbformat": 4,
 "nbformat_minor": 4
}
