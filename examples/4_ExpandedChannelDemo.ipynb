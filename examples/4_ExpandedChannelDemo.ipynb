{
 "cells": [
  {
   "cell_type": "markdown",
   "metadata": {},
   "source": [
    "This is a follow up to `StateAndChannelDemo.ipynb` that delves in to the different forms of CPTP maps included in the `QuantumChannel` class."
   ]
  },
  {
   "cell_type": "code",
   "execution_count": null,
   "metadata": {},
   "outputs": [],
   "source": [
    "import mezze.channel as ch\n",
    "import numpy as np"
   ]
  },
  {
   "cell_type": "markdown",
   "metadata": {},
   "source": [
    "# Representations Supported\n",
    "\n",
    "`QuantumChannel` support a number of different representations of CPTP maps on which are given in the first argument (`rep`) to the constructor, and the type is specififed by the second argumeny (`in_type`).  These representations currently supported are (in terms of qudit dimension $N$):\n",
    "\n",
    "* Liouvillian: `rep` = $N^2\\times N^2$ matrix, `in_type` = `liou`\n",
    "* Choi matrix: `rep` = $N^2\\times N^2$ matrix, `in_type` = `choi`\n",
    "* $\\chi$ matrix: `rep` = $N^2\\times N^2$ matrix, `in_type` = `chi` \n",
    "  * `basis` = `list` of $N\\times N$ matrices (optional) -- Defaults to standard Pauli\n",
    "* Kraus operators: `rep` = `list` of $N\\times N$ matrices, `in_type`=`kraus`\n",
    "* Unitary operation: `rep` = $N\\times N$ matrix, `in_type`=`unitary`\n",
    "* Pauli transfer matrix: `rep`= $N^2\\times N^2$ matrix, `in_type`=`ptm`\n",
    "\n",
    "Additionally, two specific representations of the Stinespring form are included that have a relationship to random CPTP maps.  These are unlikely to be outside of development of random CPTP map code:\n",
    "\n",
    "* Stiefel form: `\\rep` = $KN\\times N$ matrix, `in_type`=`stiefel`\n",
    "* Stiefel-2 form: `\\rep` = $KN\\times N$ matrix, `in_type`=`stiefel2`\n",
    "\n",
    "Duck-typing is permitted, so that essentially any 2-dimensional array-like structure will work in place as a matrix representation, e.g., `numpy.array`, `numpy.matrix`, and `list` of `list`.  Currently, there is no input checking (other than type and size), so specific constraints that ensure CPTP-ness are not.     That said, the method `QuantumChannel.is_valid()` can be used to check the validity of the input.  Note that this allows for some \"abuse\" of the methods of `QuantumChannel` to perform matrix transforms."
   ]
  },
  {
   "cell_type": "markdown",
   "metadata": {},
   "source": [
    "# Changing Representations\n",
    "\n",
    "`QuantumChannel` objects are created using one of the above CPTP map representations, and it will automatically create interneal (`numpy.matrix`-based) representations of a given form when requested, or when they are needed to perform another operation, such as composition.  The `QuantumChannel` methods to retrieve this concrete representations are\n",
    "\n",
    "* `liouvillian()`: returns $N^2\\times N^2$ `numpy.matrix`\n",
    "* `choi()`: returns $N^2\\times N^2$ `numpy.matrix`\n",
    "* `chi()`: returns $N^2\\times N^2$ `numpy.matrix`\n",
    "* `kraus()`: returns `list` of $N\\times N$ `numpy.matrix`\n",
    "* `ptm()`: returns $N^2\\times N^2$ `numpy.matrix`\n",
    "* `stiefel()`: returns $N^3\\times N$ `numpy.matrix`\n",
    "* `stiefel2()`: returns $N^3\\times N$ `numpy.matrix`\n",
    "\n",
    "The exception to this is the `unitary` `in_type`, which cannot be recovered directly. Instead `QuantumChannel.kraus()[0]` will return the unitary matrix representation of a unitary operation."
   ]
  },
  {
   "cell_type": "markdown",
   "metadata": {},
   "source": [
    "# Example 1: Unitary Operations\n",
    "\n",
    "The easiest way to define unitary operations is through the `unitary` `in_type`"
   ]
  },
  {
   "cell_type": "code",
   "execution_count": null,
   "metadata": {},
   "outputs": [],
   "source": [
    "I = ch.QuantumChannel(np.eye(2),'unitary')\n",
    "X = ch.QuantumChannel([[0,1],[1,0]],'unitary')\n",
    "Y = ch.QuantumChannel(np.matrix([[0,-1j],[1j,0]]),'unitary')\n",
    "Z = ch.QuantumChannel(np.array([[1,0],[0,-1]]),'unitary')\n",
    "H = ch.QuantumChannel(1/np.sqrt(2)*np.array([[1,1],[1,-1]]),'unitary')\n",
    "CNOT = ch.QuantumChannel([[1,0,0,0],[0,1,0,0],[0,0,0,1],[0,0,1,0]],'unitary')"
   ]
  },
  {
   "cell_type": "markdown",
   "metadata": {},
   "source": [
    "# Example 2: Pauli Channels\n",
    "\n",
    "By default $\\chi$ matrices and Pauli transfer matrices are expressions in the Pauli basis of the Choi and Liouvillian forms, respectively, thus Pauli channels are expressed as diagonal matrices in these forms."
   ]
  },
  {
   "cell_type": "code",
   "execution_count": null,
   "metadata": {},
   "outputs": [],
   "source": [
    "Z_depol = ch.QuantumChannel(np.diag([.99,0,0,.01]),'chi')\n",
    "Z_depol2 = ch.QuantumChannel(np.diag([1,.98,.98,1]),'ptm')\n",
    "\n",
    "print('Z_depol in chi-matrix form:')\n",
    "print(Z_depol.chi())\n",
    "\n",
    "print('\\n Z_depol2 in chi-matrix form (same as Z_depol)')\n",
    "print(Z_depol2.chi())\n",
    "\n",
    "uniform_depolarizing = ch.QuantumChannel(np.diag([.97,.01,.01,.01]),'chi')\n",
    "non_uniform_depolarizing = ch.QuantumChannel(np.diag([1,.7,.8,.9]),'ptm')\n",
    "\n",
    "print('\\nUniform depolarizing chi->ptm')\n",
    "\n",
    "print(uniform_depolarizing.ptm())\n",
    "\n",
    "print('\\n Non-uniform depolarizing ptm->chi')\n",
    "print(np.round(non_uniform_depolarizing.chi(),2))"
   ]
  },
  {
   "cell_type": "markdown",
   "metadata": {},
   "source": [
    "# Example 3: Amplitude Damping\n",
    "\n",
    "Amplitude damping is expressed in Kraus form (in terms of decay $\\gamma$) via $$A_1=\\begin{bmatrix}1&0\\\\0&\\sqrt{1-\\gamma}\\end{bmatrix}$$ $$A_2=\\begin{bmatrix}0&\\sqrt{\\gamma}\\\\0&0\\end{bmatrix}$$\n",
    "\n",
    "In Pauli transfer matrix form, this is $$\\begin{bmatrix}1&0&0&0\\\\0&\\sqrt{1-\\gamma}&0&0\\\\0&0&\\sqrt{1-\\gamma}&0\\\\\\gamma&0&0&1-\\gamma\\end{bmatrix}$$"
   ]
  },
  {
   "cell_type": "code",
   "execution_count": null,
   "metadata": {},
   "outputs": [],
   "source": [
    "gamma = .1**2\n",
    "A1 = [[1,0],[0,np.sqrt(1-gamma)]]\n",
    "A2 = [[0,np.sqrt(gamma)],[0,0]]\n",
    "amp_damp_kraus = ch.QuantumChannel([A1,A2],'kraus')\n",
    "\n",
    "print('sqrt(1-\\gamma): {0}'.format(np.sqrt(1-gamma)))\n",
    "\n",
    "print('\\nKraus definition agrees with PTM version:')\n",
    "amp_damp_kraus.ptm()"
   ]
  },
  {
   "cell_type": "markdown",
   "metadata": {},
   "source": [
    "# Other Operations\n",
    "\n",
    "* `is_valid()` checks CP and TP conditions based on `in_type`\n",
    "* `rank()` returns the Kraus rank of the CPTP map\n",
    "* `is_unital()` returns unitality of CPTP map\n",
    "* `is_extremal()` returns `True` if CPTP map is an extremal element of the convex set of CPTP maps\n",
    "* `stiefel_tangent()` returns the tangent space element of Stiefel manifold to the CPTP map in Stiefel form."
   ]
  },
  {
   "cell_type": "code",
   "execution_count": null,
   "metadata": {},
   "outputs": [],
   "source": []
  }
 ],
 "metadata": {
  "kernelspec": {
   "display_name": "mezzeexport",
   "language": "python",
   "name": "mezzeexport"
  },
  "language_info": {
   "codemirror_mode": {
    "name": "ipython",
    "version": 3
   },
   "file_extension": ".py",
   "mimetype": "text/x-python",
   "name": "python",
   "nbconvert_exporter": "python",
   "pygments_lexer": "ipython3",
   "version": "3.7.3"
  }
 },
 "nbformat": 4,
 "nbformat_minor": 4
}
