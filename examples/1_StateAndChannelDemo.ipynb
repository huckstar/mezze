{
 "cells": [
  {
   "cell_type": "code",
   "execution_count": null,
   "metadata": {},
   "outputs": [],
   "source": [
    "import mezze.channel as ch"
   ]
  },
  {
   "cell_type": "markdown",
   "metadata": {},
   "source": [
    "Quantum states can be specified in a number of forms in mezze, for example by specifying a density matrix."
   ]
  },
  {
   "cell_type": "code",
   "execution_count": null,
   "metadata": {},
   "outputs": [],
   "source": [
    "zero = ch.QuantumState([[1,0],[0,0]])\n",
    "print('|0> as density matrix ( |0><0| ):')\n",
    "print(zero.density_matrix())"
   ]
  },
  {
   "cell_type": "markdown",
   "metadata": {},
   "source": [
    "States can be converted between representations by the `density_matrix()`, `density_vector()`, `bloch_vector()` and `state_mixture()` methods.  These methods return numpy primitives, and if desired, the outputs of these can be used to generate new `QuantumState` objects, although this is generally not needed since all conversions are stored within the original `QuantumState` object."
   ]
  },
  {
   "cell_type": "code",
   "execution_count": null,
   "metadata": {},
   "outputs": [],
   "source": [
    "print('|0> as a density vector ( |(|0><0|)>> )')\n",
    "print(zero.density_vector())\n",
    "print('\\n|0> as a bloch vector')\n",
    "print(zero.bloch_vector())\n",
    "print('\\n|0> decomposed into weights and pure states')\n",
    "w,b = zero.state_mixture()\n",
    "print('\\tweights: {0}'.format(w))\n",
    "print('\\tpure states: {0},{1}'.format(b[0],b[1]))"
   ]
  },
  {
   "cell_type": "markdown",
   "metadata": {},
   "source": [
    "`QuantumChannel` operates on a similar formalism. Channels can be defined by matrices that represent Liouvillians, unitary operations, Choi matrices, $\\chi$-matrices, and Stiefel matrices by specifying `type` in the constructor as `liou`, `unitary`, `choi`, `chi`, and `stiefel` respectively.  Giving a list of matrices and `type=kraus` will specify a channel from Kraus operators.  The current version does not perform consistency checking on the inputs but will be implemented in a future release."
   ]
  },
  {
   "cell_type": "code",
   "execution_count": null,
   "metadata": {},
   "outputs": [],
   "source": [
    "X = ch.QuantumChannel([[0,1],[1,0]],'unitary')\n",
    "print('Chi matrix of X created from a unitary represenation')\n",
    "print(X.chi())\n",
    "\n",
    "#note the extra set of []\n",
    "Xkraus = ch.QuantumChannel([ [[0,1],[1,0]] ],'kraus')\n",
    "print('\\nChi matrix of X created from a set of kraus operators')\n",
    "print(Xkraus.chi())"
   ]
  },
  {
   "cell_type": "markdown",
   "metadata": {},
   "source": [
    "In mezze, the `*` operator is defined on `QuantumChannel` and is used to map an in input state to an output state.  You can also use the `QuantumChannel.map` function as well."
   ]
  },
  {
   "cell_type": "code",
   "execution_count": null,
   "metadata": {},
   "outputs": [],
   "source": [
    "print('X*zero as a Bloch Vector')\n",
    "print((X*zero).bloch_vector())\n",
    "print(\"\")\n",
    "print('X*zero as a density matrix')\n",
    "print((X*zero).density_matrix())"
   ]
  },
  {
   "cell_type": "markdown",
   "metadata": {},
   "source": [
    "The `*` operation is also defined between channel objects, and corresponds to standard multiplication of Liouvillians as matrices.  One can also use `dot()`."
   ]
  },
  {
   "cell_type": "code",
   "execution_count": null,
   "metadata": {},
   "outputs": [],
   "source": [
    "I = X*X\n",
    "print('X*X is the identity channel')\n",
    "print(I.chi())"
   ]
  },
  {
   "cell_type": "markdown",
   "metadata": {},
   "source": [
    "Tensor product of states is accomplished through the `^` operator or `kron()` function"
   ]
  },
  {
   "cell_type": "code",
   "execution_count": null,
   "metadata": {},
   "outputs": [],
   "source": [
    "composite_state = zero^zero\n",
    "print('|0>|0> = |00>')\n",
    "print(composite_state.density_matrix())"
   ]
  },
  {
   "cell_type": "markdown",
   "metadata": {},
   "source": [
    "Tensor product is defined similarly for `QuantumChannel`, as are partial traces (currently only implemented for composite systems of equal dimension)"
   ]
  },
  {
   "cell_type": "code",
   "execution_count": null,
   "metadata": {},
   "outputs": [],
   "source": [
    "composite_state_out = (I^X)*composite_state\n",
    "print('(I^X)*|00> = |01>')\n",
    "print(composite_state_out.density_matrix())\n",
    "\n",
    "print('\\n Tr_B(|01>) = |0>')\n",
    "print(composite_state_out.TrB().density_matrix())\n",
    "\n",
    "print('\\n Tr_A(|01>) = |1>')\n",
    "print(composite_state_out.TrA().density_matrix())"
   ]
  },
  {
   "cell_type": "code",
   "execution_count": null,
   "metadata": {},
   "outputs": [],
   "source": []
  }
 ],
 "metadata": {
  "kernelspec": {
   "display_name": "mezzeexport",
   "language": "python",
   "name": "mezzeexport"
  },
  "language_info": {
   "codemirror_mode": {
    "name": "ipython",
    "version": 3
   },
   "file_extension": ".py",
   "mimetype": "text/x-python",
   "name": "python",
   "nbconvert_exporter": "python",
   "pygments_lexer": "ipython3",
   "version": "3.7.3"
  }
 },
 "nbformat": 4,
 "nbformat_minor": 4
}
