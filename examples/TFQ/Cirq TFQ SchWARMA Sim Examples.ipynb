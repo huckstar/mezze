{
 "cells": [
  {
   "cell_type": "code",
   "execution_count": null,
   "metadata": {},
   "outputs": [],
   "source": [
    "import tensorflow_quantum as tfq\n",
    "import tensorflow as tf\n",
    "import numpy as np\n",
    "import scipy.signal as si\n",
    "import scipy.linalg as la\n",
    "import sympy\n",
    "import cirq\n",
    "import matplotlib.pyplot as pl\n",
    "from mpl_toolkits.axes_grid1.inset_locator import inset_axes\n",
    "\n",
    "from mezze.tfq import *"
   ]
  },
  {
   "cell_type": "markdown",
   "metadata": {},
   "source": [
    "# Basic workflow\n",
    "The basic concept behind the Cirq/TensorFlow Quantum enabled SchWARMA simulation revolves around the `cirq.Circuit` class.  These circuits are \"SchWARMA-fied\" by classes that derive from `SchWARMAFier` that are responsible for both 1) parsing `cirq.Circuit` objects to insert `sympy` symbolic gates (for simulation in Cirq of TensorFlow Quantum) and 2) generate noisy parameter sequences using the underlying ARMA models. The base simulators `CirqSchWARMASim` and `TensorFlowSchWARMASim` take a `Cirq.Circuit` and a `SchWARMAFier` in its constructor and can perform a number of different simulation routines.  For the most part, we focus on `TensorFlowSchWARMASim` as it is faster, but is however limited in the gate set it can simulate. \n",
    "\n",
    "SchWARMAFiers can be divided into two main types, base SchWARMAFiers that implement specific targeted errors (along with helper functions such as `psd()` and `corrfn`), and composite SchWARMAFiers that take a list of other SchWARMAFiers and apply them to a common circuit.  This flexible framework allows for the development of complicated error models.\n",
    "\n",
    "**Base SchWARMAFiers**\n",
    "* `SimpleDephasingSchWARMAFier`: appends time-correlated errors using a specified operation to each qubit independently.\n",
    "* `SingleQubitControlSchWARMAFier`: models time-correlated control errors by appending an additional gate only after a specific gate\n",
    "* `GateQubitDependentSchWARMAFier`: applies a time-correlated, user specfied error after a user specified gate on a user specified qubit(s)\n",
    "* `NullSchWARMAFier`: SchWARMAFier that applies no errors, used for simulating noise-free circuits\n",
    "\n",
    "**Composite SchWARMAFiers**\n",
    "* `AdditiveSchWARMAFier`: takes a list of SchWARMAFiers and adds up their symbolic arguments. Assumes that all of the constituent SchWARMAFiers interact with the circuit in the same way (i.e., their symbolic noisy circuits are all identical). Useful for defining complex power spectra or modeling injected and background noise.\n",
    "* `SequentialSchWARMAFier`: takes a list of SchWARMAFiers and applies them sequentially to each moment in the circuit.\n",
    "\n",
    "**Future SchWARMAFiers**\n",
    "In the nearish future, we intend to implement spatial correlations, two qubit control errors (altough this can be hacked using `GateQubitDependentSchWARMAFier`) and additional composite SchWARMAFiers to better handle non-commuting errors"
   ]
  },
  {
   "cell_type": "markdown",
   "metadata": {},
   "source": [
    "# Example 1: Time correlated $Z$-dephasing noise\n",
    "`SimpleDephasingSchWARMAFier` is a SchWARMAFier that applies correlated errors (by default $Z(\\theta)$, changeable by the `op` argument in the constructor) after each gate on each qubit. The errors are gate and qubit independent."
   ]
  },
  {
   "cell_type": "code",
   "execution_count": null,
   "metadata": {},
   "outputs": [],
   "source": [
    "# Define some schwarma coefficients, for e.g., low-pass noise\n",
    "b = si.firwin(64, .1)\n",
    "\n",
    "# Normalize\n",
    "b = b/la.norm(b)*.1\n",
    "\n",
    "#Make a SchWARMAFier\n",
    "S = SimpleDephasingSchWARMAFier(b, [1])"
   ]
  },
  {
   "cell_type": "code",
   "execution_count": null,
   "metadata": {},
   "outputs": [],
   "source": [
    "# Take a look at the power spectrum\n",
    "w, P = S.psd()\n",
    "\n",
    "pl.figure()\n",
    "pl.plot(w, 10*np.log10(P))\n",
    "pl.ylabel('Power, dB')\n",
    "pl.xlabel('Normlized Frequency')\n",
    "pl.show()"
   ]
  },
  {
   "cell_type": "code",
   "execution_count": null,
   "metadata": {},
   "outputs": [],
   "source": [
    "# Create a circuit -- here a random one\n",
    "circ = cirq.generate_boixo_2018_supremacy_circuits_v2_grid(2,2,\n",
    "                                    4,np.random.randint(2**16))\n",
    "circ"
   ]
  },
  {
   "cell_type": "markdown",
   "metadata": {},
   "source": [
    "The noisy, SchWARMAFied circuit can be viewed using `schwarmafy` (note the second argument is the array of symbolic variables). **Note the ordering of the symbolic variables can vary spatially across qubits, but should be sequential in time**."
   ]
  },
  {
   "cell_type": "code",
   "execution_count": null,
   "metadata": {},
   "outputs": [],
   "source": [
    "noisy_circ, h_array = S.schwarmafy(circ)\n",
    "noisy_circ"
   ]
  },
  {
   "cell_type": "markdown",
   "metadata": {},
   "source": [
    "If, for some reason you want to see some noisy tracjectories, these are returned by `gen_noise_instances`. **Note this returns an array where each row is the noise for one circuit.**"
   ]
  },
  {
   "cell_type": "code",
   "execution_count": null,
   "metadata": {},
   "outputs": [],
   "source": [
    "noise = S.gen_noise_instances(circ,1)\n",
    "noise = np.reshape(noise, (len(circ.all_qubits()),len(circ)))\n",
    "pl.figure()\n",
    "pl.plot(noise.T,'-o')\n",
    "pl.ylabel('Rotation Angle')\n",
    "pl.xlabel('Gate #')\n",
    "pl.title('Some Time-Correlated $Z$-rotations')\n",
    "pl.show()"
   ]
  },
  {
   "cell_type": "code",
   "execution_count": null,
   "metadata": {},
   "outputs": [],
   "source": [
    "# Set up a simulation from a circuit and a schwarmafier and monte carlo simulate\n",
    "sim = TensorFlowSchWARMASim(circ,S)\n",
    "avg_density_matrix = sim.dm_sim(num_MC=1000)"
   ]
  },
  {
   "cell_type": "code",
   "execution_count": null,
   "metadata": {},
   "outputs": [],
   "source": [
    "# Now Plot\n",
    "fig, ax = pl.subplots(1,2,figsize=(10,5))\n",
    "vv = np.max(np.abs(avg_density_matrix))\n",
    "pl.set_cmap('bwr')\n",
    "m1 = ax[0].matshow(np.real(avg_density_matrix),vmin=-vv,vmax=vv)\n",
    "ax[1].matshow(np.imag(avg_density_matrix),vmin=-vv,vmax=vv)\n",
    "ax[0].set_title('Real Part of Density Matrix')\n",
    "ax[1].set_title('Imaginary Part of Density Matrix')\n",
    "cb_ax = inset_axes(ax[1], width='200%', height='10%', loc='lower center', \n",
    "                   bbox_to_anchor=(-.6,-.23,1,1),bbox_transform=ax[1].transAxes,borderpad=0)\n",
    "cb = fig.colorbar(m1,cax = cb_ax, orientation = 'horizontal')\n",
    "cb_ax.tick_params(labelsize=12)\n",
    "pl.show()"
   ]
  },
  {
   "cell_type": "markdown",
   "metadata": {},
   "source": [
    "# Example 2: Multi-component time correlated $Z$-dephasing noise\n",
    "Using the class `AdditiveSchWARMAFier` we can simulate more complex noise spectra, such as those withe multiple peaks or a signal with a background noise. \n"
   ]
  },
  {
   "cell_type": "code",
   "execution_count": null,
   "metadata": {},
   "outputs": [],
   "source": [
    "# The low pass part\n",
    "b = si.firwin(64, .1)\n",
    "b = b/la.norm(b)*.1\n",
    "S_lp = SimpleDephasingSchWARMAFier(b, [1])\n",
    "\n",
    "# Add a higher frequency \"feature\"\n",
    "b = si.firwin(256, [.3,.31],pass_zero='bandpass')\n",
    "b = b/la.norm(b)*.025\n",
    "S_feat = SimpleDephasingSchWARMAFier(b,[1])\n",
    "\n",
    "# Add a white background noise -- raises the \"noise floor\"\n",
    "S_bg = SimpleDephasingSchWARMAFier([.02],[1])\n",
    "\n",
    "S_tot = AdditiveSchWARMAFier([S_lp, S_feat, S_bg])\n",
    "\n",
    "w,P = S_tot.psd()\n",
    "pl.figure()\n",
    "pl.plot(w, 10*np.log10(P))\n",
    "pl.ylabel('Power, dB')\n",
    "pl.xlabel('Normlized Frequency')\n",
    "pl.show()"
   ]
  },
  {
   "cell_type": "code",
   "execution_count": null,
   "metadata": {},
   "outputs": [],
   "source": [
    "# Simulate and compute fidelity\n",
    "sim = TensorFlowSchWARMASim(circ, NullSchWARMAFier())\n",
    "no_noise_dm = sim.dm_sim(1)\n",
    "\n",
    "sim = TensorFlowSchWARMASim(circ, S_tot)\n",
    "noise_dm = sim.dm_sim(100)\n",
    "\n",
    "print('Fidelity: {0}'.format(np.real(np.trace(no_noise_dm@noise_dm))))"
   ]
  },
  {
   "cell_type": "markdown",
   "metadata": {},
   "source": [
    "# Example 3: Single-qubit multiplicative control noise\n",
    "`SingleQubitControlSchWARMAFier` can be used to model multiplicative control noise, e.g. $X(\\theta)\\to X((1+\\eta_k)\\theta)$ for some ARMA generated noise process $\\eta$. "
   ]
  },
  {
   "cell_type": "code",
   "execution_count": null,
   "metadata": {},
   "outputs": [],
   "source": [
    "#Set up a circuit with various flavors of X and Y gates\n",
    "q0 = cirq.GridQubit(0,0)\n",
    "q1 = cirq.GridQubit(1,0)\n",
    "circ = cirq.Circuit([cirq.rx(1).on(q0),cirq.X(q1)**.5,cirq.ry(1).on(q0),cirq.ry(3).on(q1),cirq.X(q0), cirq.Y(q1)**.25])\n",
    "circ"
   ]
  },
  {
   "cell_type": "code",
   "execution_count": null,
   "metadata": {},
   "outputs": [],
   "source": [
    "# Define a list of gates to add control errors to.  This one is for X rotations\n",
    "# XPowGate covers most X rotations, PauliX is for the literal cirq.X() without an exponent\n",
    "op_list = [cirq.ops.common_gates.XPowGate, cirq.ops.pauli_gates._PauliX]      \n",
    "    \n",
    "S = SingleQubitControlSchWARMAFier([.1],[1],op_list, cirq_gate_multiplicative)\n",
    "noisy_circ, h_array = S.schwarmafy(circ)\n",
    "print('Note Errors Only after X-rotations:')\n",
    "noisy_circ"
   ]
  },
  {
   "cell_type": "code",
   "execution_count": null,
   "metadata": {},
   "outputs": [],
   "source": [
    "# Now, add Y rotations into the mix (as in I/Q based control)\n",
    "op_list += [cirq.ops.common_gates.YPowGate, cirq.ops.pauli_gates._PauliY]\n",
    "S = SingleQubitControlSchWARMAFier([.1],[1],op_list, cirq_gate_multiplicative)\n",
    "noisy_circ, h_array = S.schwarmafy(circ)\n",
    "print('Now Errors after all X and Y rotations:')\n",
    "noisy_circ"
   ]
  },
  {
   "cell_type": "markdown",
   "metadata": {},
   "source": [
    "# Example 4: Custom multi-qubit gate SchWARMAFier"
   ]
  },
  {
   "attachments": {
    "ac4cc439-eb22-475a-a8fd-1be26f202efb.png": {
     "image/png": "[encoded data removed]"
    }
   },
   "cell_type": "markdown",
   "metadata": {},
   "source": [
    "Implements the exact QAOA grover from https://doi.org/10.1103/PhysRevA.95.062317\n",
    "\n",
    "Grover search implemented using QAOA:\n",
    "\n",
    "<img src=\"attachment:ac4cc439-eb22-475a-a8fd-1be26f202efb.png\" width=\"500\" align=\"center\"/>\n",
    "\n",
    "$\\gamma =\\pi$, $\\beta=\\pi/n$\n",
    "$$C=|0\\cdots0\\rangle\\langle 0\\cdots 0|$$\n",
    "\n",
    "For a $p$ layer QAOA anatz, $W$ is applied $p$ times\n",
    "\n",
    "In this example, we will add independent multiplicative control errors to the multi-qubit projection operator, and the single qubit $X$ gates\n",
    "\n",
    "## Define the custom gate\n",
    "Here, we use `cirq.Eigengate` to define a the $e^{i\\gamma C}$ gate.  Note this is basically a minimal example showing how to implement QAOA style gates in a `cirq` parameter resolved compatible way."
   ]
  },
  {
   "cell_type": "code",
   "execution_count": null,
   "metadata": {},
   "outputs": [],
   "source": [
    "class RP0Gate(cirq.EigenGate):\n",
    "    \n",
    "    def __init__(self, exponent, Nq):\n",
    "        \n",
    "        super().__init__(exponent=exponent)\n",
    "        self.Nq=Nq\n",
    "        \n",
    "    def _eigen_components(self):\n",
    "        \n",
    "        eig = np.zeros((2**self.Nq,2**self.Nq))\n",
    "        eig[0,0] = 1\n",
    "        \n",
    "        eigs = [(1/np.pi,eig)]\n",
    "    \n",
    "        for j in range(1,2**self.Nq):\n",
    "            eig = np.zeros((2**self.Nq,2**self.Nq))\n",
    "            eig[j,j] = 1\n",
    "            eigs.append((0,eig))\n",
    "        \n",
    "        return eigs\n",
    "    \n",
    "    def _num_qubits_(self):\n",
    "        return self.Nq\n",
    "    \n",
    "    def _with_exponent(self, exponent):\n",
    "        return type(self)(exponent=exponent, Nq=self.Nq)\n",
    "    \n",
    "    def _circuit_diagram_info_(self, args):\n",
    "        #return [f\"RP0({self.α:0.2f})\"]* self.num_qubits()\n",
    "        try:\n",
    "            return [\"RP0({0:0.2f})\".format(self._exponent)]* self.num_qubits()\n",
    "        except TypeError:\n",
    "            return [\"RP0(err)\"]*self.num_qubits()"
   ]
  },
  {
   "cell_type": "markdown",
   "metadata": {},
   "source": [
    "## Some helper code to acually make the QAOA ciruit"
   ]
  },
  {
   "cell_type": "code",
   "execution_count": null,
   "metadata": {},
   "outputs": [],
   "source": [
    "def grover_circuit_nomeasure(qubits,betas,gammas):\n",
    "    '''\n",
    "    betas and gammas are arrays of length P (the number of layers)\n",
    "    '''\n",
    "    return cirq.Circuit(\n",
    "        # Prepare uniform superposition\n",
    "        cirq.H.on_each(*qubits),\n",
    "        # Apply QAOA unitary\n",
    "        grover_Unitary(qubits, betas, gammas))\n",
    "\n",
    "def grover_Unitary(qubits, betas, gammas):\n",
    "    num_qubits=len(qubits)\n",
    "    for beta, gamma in zip(betas, gammas):\n",
    "        yield RP0Gate(-gamma,Nq=num_qubits).on(*qubits) \n",
    "        yield cirq.rx(2*beta).on_each(*qubits)\n",
    "        yield RP0Gate(gamma,Nq=num_qubits).on(*qubits) \n",
    "        yield cirq.rx(2*beta).on_each(*qubits)\n",
    "        \n",
    "def groverqaoa(n,p,betas=None,gammas=None,outputflag=False):\n",
    "    '''\n",
    "    Calculates |ψ>=U_QAOA |++..+>, and returns |<00...00|ψ>|^2\n",
    "    '''\n",
    "    qubits = cirq.LineQubit.range(n)\n",
    "    if betas==None:\n",
    "        betas = [np.pi/n]*p\n",
    "    if gammas==None:\n",
    "        gammas = [np.pi]*p\n",
    "    assert len(betas)==p,'Length of betas should be the same as p'\n",
    "    assert len(gammas)==p,'Length of gammas should be the same as p'\n",
    "    circuit = grover_circuit_nomeasure(qubits, betas, gammas)\n",
    "    if outputflag:\n",
    "    # Print an circuit\n",
    "        print('Grover QAOA circuit:')\n",
    "        print(circuit.to_text_diagram(transpose=True))\n",
    "    simulator = cirq.Simulator()\n",
    "    results=simulator.simulate(circuit)\n",
    "    return np.abs(results.final_state_vector[0])**2 "
   ]
  },
  {
   "cell_type": "markdown",
   "metadata": {},
   "source": [
    "## Grover example\n",
    "Example of running a grover qaoa circuit and measure the expecation value of the cost function.\n",
    "Te output state is:\n",
    "\\begin{align}\n",
    "|\\psi_{\\rm out}\\rangle & =\\prod_{i=1}^p\\left[ e^{-i\\beta \\sum_j X_j} e^{i\\gamma C} e^{-i\\beta \\sum_j X_j} e^{-i\\gamma C}\\right] |+\\rangle^{\\otimes n}\\\\\n",
    "&=\\left[\\prod_{i=1}^p RX[2\\beta]^{\\otimes n} RP_0[-\\gamma] RX[2\\beta]^{\\otimes n} RP_0[\\gamma]\\right] H^{\\otimes n}|0\\cdots 0\\rangle\n",
    "\\end{align}\n",
    "The output expecation value is:\n",
    "\\begin{align}\n",
    "\\langle C\\rangle =-|\\langle 0\\cdots 0|\\psi_{\\rm out}\\rangle|^2\n",
    "\\end{align}"
   ]
  },
  {
   "cell_type": "code",
   "execution_count": null,
   "metadata": {},
   "outputs": [],
   "source": [
    "#Make a Grover QAOA circuit\n",
    "qubits = [cirq.GridQubit(i,0) for i in range(6)]\n",
    "circ = grover_circuit_nomeasure(qubits,[np.pi/6]*3,[np.pi]*3)\n",
    "circ"
   ]
  },
  {
   "cell_type": "code",
   "execution_count": null,
   "metadata": {},
   "outputs": [],
   "source": [
    "# Since we are SchWARMAFying a custom gate, we need a custom error generator\n",
    "def RP0_error_gen_mult(op, h):\n",
    "    return RP0Gate(op.gate._exponent*h,len(op.qubits)).on(*op.qubits)\n",
    "\n",
    "#Make a SchWARMAFier for the RP0 gate\n",
    "S_RP0 = GateQubitDependentSchWARMAFier([.1],[1],RP0Gate, qubits, RP0_error_gen_mult)\n",
    "\n",
    "# Now make one for the X gate, note we need to change the symbol name\n",
    "op_list = [cirq.ops.common_gates.XPowGate, cirq.ops.pauli_gates._PauliX]          \n",
    "S_X = SingleQubitControlSchWARMAFier([.1],[1],op_list, cirq_gate_multiplicative,sym='g')"
   ]
  },
  {
   "cell_type": "code",
   "execution_count": null,
   "metadata": {},
   "outputs": [],
   "source": [
    "S_tot = SequentialSchWARMAFier([S_RP0,S_X])\n",
    "#S_tot = SequentialSchWARMAFier([S_X,S_RP0])\n",
    "\n",
    "noisy_circ, h_array = S_tot.schwarmafy(circ)\n",
    "noisy_circ"
   ]
  },
  {
   "cell_type": "markdown",
   "metadata": {},
   "source": [
    "### Note, since we have a custom gate we can't use TensorFlow (at this time)"
   ]
  },
  {
   "cell_type": "code",
   "execution_count": null,
   "metadata": {},
   "outputs": [],
   "source": [
    "#Since this has a custom gate, can't use tfq for sim\n",
    "sim = CirqSchWARMASim(circ, NullSchWARMAFier())\n",
    "density_matrix = sim.dm_sim(num_MC=1)"
   ]
  },
  {
   "cell_type": "code",
   "execution_count": null,
   "metadata": {},
   "outputs": [],
   "source": [
    "sim = CirqSchWARMASim(circ, S_RP0)\n",
    "noisy_density_matrix = sim.dm_sim(num_MC=10) #definitely increase this if you want a real answer\n",
    "print('Fidelity: {0}'.format(np.real(np.trace(density_matrix@noisy_density_matrix))))"
   ]
  },
  {
   "cell_type": "markdown",
   "metadata": {},
   "source": [
    "# Example 5: Basic Spatial Correlations\n",
    "In this example we will show how to use `MatrixCorrelatorSchWARMAFier` to do basic correlations.  This `SchWARMAFier` takes another `SchWARMAFier` and a matrix.  We will take the circuit from the previous example and add dephasing and X control and show how they can be correlated.  This multiplies the individual error streams (i.e., underlying ARMA model) of the SchWARMAFier by that matrix to correlate them, effectively making each error stream a linear combination of the others.\n",
    "\n",
    "__Note: Here we use a matrix that averages the errors spatially, so that they are all identical for illustrative purposes.  Practically, one would want to use the matrix square root of the desired correlation matrix.__"
   ]
  },
  {
   "cell_type": "code",
   "execution_count": null,
   "metadata": {},
   "outputs": [],
   "source": [
    "qubits = [cirq.GridQubit(i,0) for i in range(6)]\n",
    "circ = grover_circuit_nomeasure(qubits,[np.pi/6]*3,[np.pi]*3)\n",
    "circ"
   ]
  },
  {
   "cell_type": "code",
   "execution_count": null,
   "metadata": {},
   "outputs": [],
   "source": [
    "# Make a temporally correlated \n",
    "S_Z = SimpleDephasingSchWARMAFier(b,[1])\n",
    "\n",
    "# Now make one for the X gate, note we need to change the symbol name\n",
    "op_list = [cirq.ops.common_gates.XPowGate, cirq.ops.pauli_gates._PauliX]          \n",
    "S_X = SingleQubitControlSchWARMAFier(b,[1],op_list, cirq_gate_multiplicative,sym='g')"
   ]
  },
  {
   "cell_type": "markdown",
   "metadata": {},
   "source": [
    "## Method 1: Correlate Individual SchWARMAFiers\n",
    "We will use matrix correlators to induce perfect correlations on the two types of noise individually.  Note that for each moment the introduced errors are all the same, but the $Z$ and $X$ errors are different."
   ]
  },
  {
   "cell_type": "code",
   "execution_count": null,
   "metadata": {},
   "outputs": [],
   "source": [
    "A = np.ones((len(qubits),len(qubits)))/len(qubits)\n",
    "S_Z_corr = MatrixCorrelatorSchWARMAFier(S_Z, A)\n",
    "S_X_corr = MatrixCorrelatorSchWARMAFier(S_X, A)\n",
    "\n",
    "# More readable if control error is before dephasing\n",
    "S_tot = SequentialSchWARMAFier([S_X_corr,S_Z_corr])\n",
    "S_tot.gen_noisy_circuit(circ,1)"
   ]
  },
  {
   "cell_type": "markdown",
   "metadata": {},
   "source": [
    "# Method 2: Individually Correlate SchWARMAFiers in a Sequential SchWARMAFier\n",
    "`MatrixCorrelator` works on `SequentialSchWARMAFier` too, so a block diagonal matrix (of appropriate dimension) will correlate as desired"
   ]
  },
  {
   "cell_type": "code",
   "execution_count": null,
   "metadata": {},
   "outputs": [],
   "source": [
    "Atot = la.block_diag(A,A)\n",
    "S_tot = SequentialSchWARMAFier([S_X, S_Z])\n",
    "S_tot_corr = MatrixCorrelatorSchWARMAFier(S_tot,Atot)\n",
    "S_tot_corr.gen_noisy_circuit(circ,1)"
   ]
  },
  {
   "cell_type": "markdown",
   "metadata": {},
   "source": [
    "# Method 3: Correlate Error between errors in a Sequential SchWARMAFier\n",
    "In this example, the $Z$ and $X$ errors on after the `Rx` gates will be the same (don't forget to multiply by $\\pi$ for the $X$ error).\n",
    "\n",
    "__Note: There are slight differences between the Z and X errors, probably due to some numerical issues in their generation (dephasing vs control error).  If the X is replaced with another dephasing error, this issue goes awat.  Will sort this out in the future, but seems like a pathological case, anyway__"
   ]
  },
  {
   "cell_type": "code",
   "execution_count": null,
   "metadata": {},
   "outputs": [],
   "source": [
    "Atot = np.block([[A,A],[A,A]])/2\n",
    "\n",
    "#S_Z2 = SimpleDephasingSchWARMAFier(b,[1],sym='g')\n",
    "S_tot = SequentialSchWARMAFier([S_X, S_Z])\n",
    "S_tot_corr = MatrixCorrelatorSchWARMAFier(S_tot,Atot)\n",
    "noisy_circ = S_tot_corr.gen_noisy_circuit(circ,1)\n",
    "#Print out a chunk to make the point\n",
    "noisy_circ[4:7]"
   ]
  },
  {
   "cell_type": "code",
   "execution_count": null,
   "metadata": {},
   "outputs": [],
   "source": [
    "#See the sight difference...\n",
    "print(list(noisy_circ[5])[0].gate.exponent)\n",
    "print(list(noisy_circ[6])[0].gate.exponent)"
   ]
  },
  {
   "cell_type": "markdown",
   "metadata": {},
   "source": [
    "# Method 4: Correlate Error between qubits in a Sequential SchWARMAFier\n",
    "In this example, the $Z$ and $X$ errors on after the `Rx` gates will be the same (don't forget to multiply by $\\pi$ for the $X$ error), but qubits will have different errors."
   ]
  },
  {
   "cell_type": "code",
   "execution_count": null,
   "metadata": {},
   "outputs": [],
   "source": [
    "I = np.eye(len(qubits))\n",
    "Atot = np.block([[I,I],[I,I]])/2\n",
    "S_tot_corr = MatrixCorrelatorSchWARMAFier(S_tot,Atot)\n",
    "noisy_circ = S_tot_corr.gen_noisy_circuit(circ,1)\n",
    "# Print out a chunk to make the point\n",
    "noisy_circ[4:7]"
   ]
  }
 ],
 "metadata": {
  "kernelspec": {
   "display_name": "tfq",
   "language": "python",
   "name": "tfq"
  },
  "language_info": {
   "codemirror_mode": {
    "name": "ipython",
    "version": 3
   },
   "file_extension": ".py",
   "mimetype": "text/x-python",
   "name": "python",
   "nbconvert_exporter": "python",
   "pygments_lexer": "ipython3",
   "version": "3.7.6"
  }
 },
 "nbformat": 4,
 "nbformat_minor": 4
}
