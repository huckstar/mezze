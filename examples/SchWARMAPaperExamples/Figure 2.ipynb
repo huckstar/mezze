{
 "cells": [
  {
   "cell_type": "markdown",
   "metadata": {},
   "source": [
    "# Simulating Decoupling Protocols\n",
    "\n",
    "In this notebook we first perform a series of simulated quantum noise spectroscopy experiment. The single-qubit semi-classical noisy Hamiltonian model is\n",
    "\n",
    "$$H(t) = \\sum_{i=x,y,z}\\eta_i\\sigma_i+\\Omega(t)(\\cos(\\phi(t))\\sigma_x+\\sin(\\phi(t))\\sigma_y)\\,.$$\n",
    "\n",
    "\n",
    "We simulate this via a discrete SchWARMA model with discrete time Hamiltonian\n",
    "\n",
    "$$H_k = \\sum_{\\ell=x,y,z}y^{(\\ell)}_k\\sigma_\\ell+\\Omega_k(\\cos(phi_k)\\sigma_x+\\sin(\\phi_k)\\sigma_y)\\,.$$\n",
    "\n",
    "\n",
    "Additionally, we also simulate amplitude damping (T1) processes driven via SchWARMA models."
   ]
  },
  {
   "cell_type": "code",
   "execution_count": null,
   "metadata": {},
   "outputs": [],
   "source": [
    "%matplotlib inline\n",
    "import numpy as np\n",
    "import matplotlib.pyplot as pl\n",
    "from mezze.random.SchWARMA import correlated_error #Helper function for squared exponential PSD driven models\n",
    "import mezze.channel as ch"
   ]
  },
  {
   "cell_type": "code",
   "execution_count": null,
   "metadata": {},
   "outputs": [],
   "source": [
    "#All noise will have average fixed average fidelity at first time step (replaces amplitude of underyling squared exponential spectrum)\n",
    "fid = .99\n",
    "\n",
    "#correlation time \n",
    "corr_time = 3\n",
    "num_gates = 100\n",
    "num_MC = 10000\n",
    "\n",
    "#doing stochastic coherent z rotations, multi-axis coherent rotations, and damping\n",
    "noise_types=['zrot','xyzrot','amp_damping']\n",
    "\n",
    "#White and correlated with squared exponential spectrum\n",
    "noise_corr={'white':1e-9,'corr':corr_time}\n",
    "\n",
    "#Control schemes (defined below)\n",
    "ctrl=['none','dd','xy4','pfr']"
   ]
  },
  {
   "cell_type": "code",
   "execution_count": null,
   "metadata": {},
   "outputs": [],
   "source": [
    "# Define Pauli gates in QuantumChannel class\n",
    "I = ch.QuantumChannel(ch._sigmaI,'unitary')\n",
    "X = ch.QuantumChannel(ch._sigmaX,'unitary')\n",
    "Y = ch.QuantumChannel(ch._sigmaY,'unitary')\n",
    "Z = ch.QuantumChannel(ch._sigmaZ,'unitary')\n",
    "\n",
    "# Defines simple control sequences b\n",
    "# key: none - no control, identities only\n",
    "#      dd - repeated X gates at each time step\n",
    "#      xy4 - alternate between X and Y gates at each time step\n",
    "#      pfr - pauli frame randomization, random X,Y,Z at each step (not used in paper)\n",
    "def ctrl_gate(key,gate_num):\n",
    "    if key=='none':\n",
    "        return I\n",
    "    elif key == 'dd':\n",
    "        return X\n",
    "    elif key == 'xy4':\n",
    "        if gate_num % 2==0:\n",
    "            return X\n",
    "        else:\n",
    "            return Y\n",
    "    elif key == 'pfr':\n",
    "        p = np.random.rand()\n",
    "        if p<0:\n",
    "            return I\n",
    "        elif p<1./3:\n",
    "            return X\n",
    "        elif p<2./3:\n",
    "            return Y\n",
    "        else:\n",
    "            return Z\n",
    "    "
   ]
  },
  {
   "cell_type": "code",
   "execution_count": null,
   "metadata": {},
   "outputs": [],
   "source": [
    "#Initialize all the various data structures so that they can be accesses as dictionaries\n",
    "\n",
    "schwarmas ={}\n",
    "fids = {}\n",
    "unitality={}\n",
    "ptms = {}\n",
    "for key in noise_types:\n",
    "    schwarmas[key]={}\n",
    "    fids[key]={}\n",
    "    unitality[key]={}\n",
    "    ptms[key]={}\n",
    "    for key2 in noise_corr.keys():\n",
    "        schwarmas[key][key2]=correlated_error(key,noise_corr[key2],fid)\n",
    "        fids[key][key2]={key3:np.ones((num_MC,num_gates+1))for key3 in ctrl}\n",
    "        unitality[key][key2]={key3:np.ones((num_MC,num_gates+1))for key3 in ctrl}\n",
    "        ptms[key][key2]={key3:[] for key3 in ctrl}"
   ]
  },
  {
   "cell_type": "code",
   "execution_count": null,
   "metadata": {},
   "outputs": [],
   "source": [
    "#Actually run the Monte Carlo simulations and compute the various metrics\n",
    "for mc in range(num_MC):\n",
    "    for key in noise_types:\n",
    "        for key2 in noise_corr.keys():\n",
    "            for key3 in ctrl:\n",
    "                prop = ch.QuantumChannel(np.eye(4),'liou')\n",
    "                ideal = ch.QuantumChannel(np.eye(4),'liou')\n",
    "                errs = schwarmas[key][key2].error_stream(num_gates)\n",
    "                ptms[key][key2][key3].append([prop.ptm()])\n",
    "                for lcv, gate in enumerate(errs):\n",
    "                    ctrl_g = ctrl_gate(key3,lcv)\n",
    "                    prop = gate*ctrl_g*prop\n",
    "                    ideal = ctrl_g*ideal\n",
    "                    fids[key][key2][key3][mc,lcv+1] = np.real(np.trace(prop.choi().dot(ideal.choi())))/4\n",
    "                    unitality[key][key2][key3][mc,lcv+1]=1.0-np.linalg.norm(np.real(prop.ptm()[1:,0]))\n",
    "                    ptms[key][key2][key3][-1].append(prop.ptm())"
   ]
  },
  {
   "cell_type": "code",
   "execution_count": null,
   "metadata": {},
   "outputs": [],
   "source": [
    "pl.figure()\n",
    "pl.plot(np.mean(fids['xyzrot']['white']['none'],0),'k',label='Mark. Depol.')\n",
    "pl.plot(np.mean(fids['xyzrot']['white']['dd'],0),'-xk',markevery=5,label='XX Mark. Depol.')\n",
    "pl.plot(np.mean(fids['xyzrot']['white']['xy4'],0),'-ok',markevery=7,label='XY4 Mark. Depol.')\n",
    "pl.plot(np.mean(fids['xyzrot']['corr']['none'],0), '--r', label='Corr. Depol.')\n",
    "pl.plot(np.mean(fids['xyzrot']['corr']['dd'],0), '--xr', markevery=5,label='XX Corr. Depol.')\n",
    "pl.plot(np.mean(fids['xyzrot']['corr']['xy4'],0) ,'--or', markevery=7,label='XY4 Corr. Depol')\n",
    "pl.ylabel('Process Fidelity',fontsize=14)\n",
    "pl.xlabel('Time, in Gate Lengths',fontsize=14)\n",
    "pl.title('Decoupling Multi-Axis Coherent Noise',fontsize=16)\n",
    "pl.legend()\n",
    "#pl.savefig('schwarma_ctrl_depol.eps',bbox_inches='tight')\n",
    "pl.show()"
   ]
  },
  {
   "cell_type": "code",
   "execution_count": null,
   "metadata": {},
   "outputs": [],
   "source": [
    "pl.figure()\n",
    "pl.plot(np.mean(unitality['amp_damping']['white']['none'],0),'k',label='Mark. Damp')\n",
    "pl.plot(np.mean(unitality['amp_damping']['corr']['none'],0),'--r',label='Corr. Damp')\n",
    "pl.plot(np.mean(unitality['amp_damping']['white']['dd'],0),'-xk',markevery=5,label='XX Mark. Damp')\n",
    "pl.plot(np.mean(unitality['amp_damping']['corr']['dd'],0),'--xr',markevery=7,label='XX Corr. Damp')\n",
    "    \n",
    "pl.legend()\n",
    "pl.ylabel(r'Unitality, 1-$||\\beta||$',fontsize=14)\n",
    "pl.xlabel('Time, in Gate Lengths',fontsize=14)\n",
    "pl.title('Decoupling Amplitude Damping',fontsize=16)\n",
    "#pl.savefig('schwarma_ctrl_damp.eps',bbox_inches='tight')\n",
    "pl.show()"
   ]
  }
 ],
 "metadata": {
  "kernelspec": {
   "display_name": "Python 3",
   "language": "python",
   "name": "python3"
  },
  "language_info": {
   "codemirror_mode": {
    "name": "ipython",
    "version": 3
   },
   "file_extension": ".py",
   "mimetype": "text/x-python",
   "name": "python",
   "nbconvert_exporter": "python",
   "pygments_lexer": "ipython3",
   "version": "3.7.5"
  }
 },
 "nbformat": 4,
 "nbformat_minor": 4
}
