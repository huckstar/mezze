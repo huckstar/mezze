{
 "cells": [
  {
   "cell_type": "markdown",
   "metadata": {},
   "source": [
    "# Adiabatic Grover's Search Algorithm in the Presence of Correlated Noise"
   ]
  },
  {
   "cell_type": "markdown",
   "metadata": {},
   "source": [
    "In this notebook, we compare SchWARMA to a full dynamics simulation performed by Mezze via the adiabatic implementation of Grover's search algorithm [1]. We simulate a faulty Grover evolution given by\n",
    "\n",
    "$$\n",
    "H(t)=H_{ad}(t) + H_{err}(t),\n",
    "$$\n",
    "\n",
    "where $H_{ad}(t) = \\alpha(t) H_0 + [1-\\alpha(t)]H_p$ represents the ideal adiabatic Hamiltonian. The dynamics are driven by the annealing schedule $\\alpha(t)$ from a system described by the initial Hamiltonian $H_0=I-|+\\rangle\\langle +|$ to a final (problem) Hamiltonian $H_p=I-|+\\rangle\\langle +|$. The state $|+\\rangle$ denotes the equal superposition state and $|m\\rangle$ denotes the marked (target) state. The error Hamiltonian $H_{err}(t)=\\sum_i\\vec{\\beta}_i(t) \\vec{\\sigma}_i$ represents multi-axis noise characterized by random Gaussian, wide-sense stationary variables $\\beta^{\\mu}_i(t)$, $\\mu=x,y,z$, $i=1,\\ldots,n$ for an $n$-qubit system. $\\vec{\\sigma}_i$ represents the Pauli vector for the $i$th qubit."
   ]
  },
  {
   "cell_type": "markdown",
   "metadata": {},
   "source": [
    "The comparison shown in this notebook will center around the optimized Grover evolution, whose annealing schedule is given by\n",
    "\n",
    "$$\n",
    "\\alpha(t) = \\frac{1}{2} - \\frac{1}{2\\sqrt{N-1}}\\tan\\left[\\left(1-\\frac{2 t}{T}\\right)\\arccos\\frac{1}{\\sqrt{N}}\\right],\n",
    "$$\n",
    "where $N=2^n$ is the Hilbert space dimension [2]. The marked state is chosen as the collective state $|0\\cdots0\\rangle$ for all simulations."
   ]
  },
  {
   "cell_type": "markdown",
   "metadata": {},
   "source": [
    "The noise model is chosen to represent collective dephasing, where $\\vec{\\beta}_i(t)=(0,0,\\beta^z(t))$ for all $i$.The noise is assumed to be zero mean and therefore, characterized by its two-point correlation function $C(t-t')=\\langle \\beta^z(t)\\beta^z(t')\\rangle$. In particular, we assume the correlations to be Gaussian and fully described by $C(t-t')=\\frac{A}{2\\sqrt{\\pi}\\tau_c} e^{-(t-t')^2/4\\tau^2_c}$, where $\\tau_c$ is the correlation time of the noise."
   ]
  },
  {
   "cell_type": "code",
   "execution_count": null,
   "metadata": {},
   "outputs": [],
   "source": [
    "import numpy as np\n",
    "import mezze\n",
    "import mezze.random.SchWARMA as schwarma\n",
    "import aqc_implementations as aqc_imps\n",
    "import sys\n",
    "import copy\n",
    "import matplotlib.pyplot as plt\n",
    "import scipy.linalg as la"
   ]
  },
  {
   "cell_type": "markdown",
   "metadata": {
    "heading_collapsed": true
   },
   "source": [
    "## Helper Functions"
   ]
  },
  {
   "cell_type": "code",
   "execution_count": null,
   "metadata": {
    "hidden": true
   },
   "outputs": [],
   "source": [
    "# Functions for building multi-qubit operators\n",
    "\n",
    "def tensor_product(state_list):\n",
    "    psi = 1\n",
    "    for state in state_list:\n",
    "        psi = np.kron(psi, state)\n",
    "    return psi\n",
    "\n",
    "\n",
    "def build_sz_list(num_qubits):\n",
    "    iden = np.array([[1,0],[0,1]])\n",
    "    sz = np.array([[1,0],[0,-1]])\n",
    "    op_iden = [iden for i in range(num_qubits)]\n",
    "    op_list = []\n",
    "    for j in range(num_qubits):\n",
    "        sz_j = op_iden.copy()\n",
    "        sz_j[j] = sz\n",
    "        op_list.append( tensor_product(sz_j) )\n",
    "    return op_list"
   ]
  },
  {
   "cell_type": "code",
   "execution_count": null,
   "metadata": {
    "hidden": true
   },
   "outputs": [],
   "source": [
    "# Function to run ideal and noise Mezze simulations\n",
    "\n",
    "def run_mezze_sim(pmd, config_specs, noise_specs, return_sim_only=False):\n",
    "    # Noise specs\n",
    "    pmd.noise_hints[0]['amp'] = noise_specs['amp']\n",
    "    pmd.noise_hints[0]['corr_time'] = noise_specs['corr_time']\n",
    "\n",
    "    # Set the simulation parameters\n",
    "    config = mezze.SimulationConfig() # Get the config structure (class)\n",
    "    #mezze.Noise.seed(1000) # Set the rng seed (doesn't work if parallel is set to true below)\n",
    "    config.num_steps = config_specs['NN'] # Number of time steps to use in the simulation (larger numbers are more accurate)\n",
    "    config.time_length = config_specs['T'] # Set the time length of the integration\n",
    "    config.dt = float(config.time_length) / float(config.num_steps) # Set the time-step size\n",
    "    config.parallel = config_specs['parallel'] # Set to true for parallel Monte Carlo, False otherwise\n",
    "    config.num_cpus = int(config_specs['num_procs']) #number of cpus to parallelize over\n",
    "    config.num_runs = config_specs['num_runs'] # This sets the number of Monte Carlo trials to use to compute the average superoperator\n",
    "    #config.sample_time(1) # This flag tells the code to report out the superoperator at every time step.\n",
    "    config.get_unitary = True # Report unitary as opposed to Liouvillian\n",
    "    config.time_sampling = True # set to true to get the channel at intermediate times\n",
    "    config.sampling_interval = config_specs['sample_steps'] # records the channel after every n time-steps\n",
    "    config.realization_sampling = True # set true if you want to record every noise(monte-carlo) realization\n",
    "\n",
    "    # Controls\n",
    "    def gt(t):\n",
    "        return 1.0/2.0-1.0/(2.0*np.sqrt(2.0**Nq-1.0))*np.tan((1.0-2.0*t/config_specs['T'])*np.arccos(1.0/np.sqrt(2.0**Nq)))\n",
    "    b_ctrl = np.array(list(map(gt, np.linspace(0, config_specs['T'], config_specs['NN']))))\n",
    "    a_ctrl = 1.0 - b_ctrl\n",
    "    controls = np.transpose([a_ctrl, b_ctrl])\n",
    "\n",
    "    # Run Simulation\n",
    "    ham_func = mezze.HamiltonianFunction(pmd)\n",
    "    ham = mezze.PrecomputedHamiltonian(pmd, controls, config, ham_func.get_function())\n",
    "    sim = mezze.Simulation(config, pmd, ham)\n",
    "    report = sim.run()\n",
    "    \n",
    "    # Also return Hamiltonians at each time step\n",
    "    hh = ham.hamiltonian_matrices\n",
    "    \n",
    "    if return_sim_only == False:\n",
    "        hh = ham.hamiltonian_matrices\n",
    "        return report, hh\n",
    "    else:\n",
    "        return sim"
   ]
  },
  {
   "cell_type": "code",
   "execution_count": null,
   "metadata": {
    "hidden": true
   },
   "outputs": [],
   "source": [
    "# Function to run SchWARMA simulation of adiabatic dynamics\n",
    "\n",
    "def schwarma_sim(ideal_evolution_ops, noise_op, noise_traj):\n",
    "    U_list = []\n",
    "    U = np.identity(len(noise_op))\n",
    "    for i in range(len(ideal_evolution_ops)):\n",
    "        U_ad = ideal_evolution_ops[i]\n",
    "        U_noise = la.expm(-1.0j*noise_traj[i]*noise_op)\n",
    "        U = U_noise @ U_ad @ U\n",
    "        U_list.append(U)\n",
    "    return np.array(U_list)"
   ]
  },
  {
   "cell_type": "code",
   "execution_count": null,
   "metadata": {
    "hidden": true
   },
   "outputs": [],
   "source": [
    "# Functions for calculating statistics of the performance metric\n",
    "\n",
    "def jackknife_mean(data):\n",
    "    mean_data = []\n",
    "    for i in range(len(data)):\n",
    "        temp_data = list(data[:i]) + list(data[(i+1):])\n",
    "        mean_data.append(np.mean(temp_data))\n",
    "    return np.mean(mean_data)\n",
    "\n",
    "def jackknife_mean_CI(data):\n",
    "    mean_data = []\n",
    "    for i in range(len(data)):\n",
    "        temp_data = list(data[:i]) + list(data[(i+1):])\n",
    "        mean_data.append(np.mean(temp_data))\n",
    "    return np.quantile(mean_data, 0.0257), np.quantile(mean_data, 0.975)"
   ]
  },
  {
   "cell_type": "markdown",
   "metadata": {},
   "source": [
    "## SchWARMA vs. Mezze: Single Instance"
   ]
  },
  {
   "cell_type": "markdown",
   "metadata": {},
   "source": [
    "This section conveys the efficacy of SchWARMA by examining Grover's search dynamics for $0\\leq t \\leq T$. SchWARMA dynamics are compared against a full dynamics simulation produced by the Mezze simulation toolbox. The metric of choice is the energy difference between $\\epsilon_0(t)$, the time-dependent ground state energy of the ideal Hamiltonian $H_{ad}(t)$, and the average energy of the system $\\langle E(t)\\rangle = \\text{Tr}[\\rho(t) H(t)]$, where $\\rho(t)=U(t)\\rho(0)U^\\dagger(t)$ is the state of the system after being evolved by the faulty evolution $U(t)=\\exp\\left[-i\\int^{t}_0 dt' H(t')\\right]$."
   ]
  },
  {
   "cell_type": "markdown",
   "metadata": {
    "heading_collapsed": true
   },
   "source": [
    "### Mezze Simulation"
   ]
  },
  {
   "cell_type": "markdown",
   "metadata": {
    "hidden": true
   },
   "source": [
    "The Mezze simulator propagates the faulty dynamics via\n",
    "\n",
    "$$\n",
    "U(t_j, t_{j-1}) = \\exp\\left(-i\\int^{t_j}_{t_{j-1}} H(t)dt\\right)\\approx\\prod^{N_j}_{k=1}e^{-iH(k\\delta t)\\delta t},\n",
    "$$\n",
    "\n",
    "where Trotterization is used to approximate the dynamics. The number of Trotter steps is given by $N_j=T/\\delta t$, with $\\delta t$ denoting the time resolution of the approximate evolution."
   ]
  },
  {
   "cell_type": "code",
   "execution_count": null,
   "metadata": {
    "hidden": true
   },
   "outputs": [],
   "source": [
    "'''\n",
    "WARNING: This simulation can be time consuming, especially if not performed using multiprocessing\n",
    "'''\n",
    "\n",
    "# System specifications\n",
    "Nq = 2\n",
    "\n",
    "# Operators\n",
    "su = np.array([[1],[0]])\n",
    "sd = np.array([[0],[1]])\n",
    "sp = 1.0/np.sqrt(2)*(su+sd)\n",
    "init_state = tensor_product([sp for i in range(Nq)])\n",
    "marked_state = tensor_product([su for i in range(Nq)])\n",
    "sz_list = build_sz_list(Nq)\n",
    "Sz = np.zeros((2**Nq, 2**Nq))\n",
    "for sz_j in sz_list:\n",
    "    Sz += sz_j\n",
    "\n",
    "# Initial State\n",
    "rho_0 = init_state @ np.conjugate(np.transpose(init_state))\n",
    "rho_target = marked_state @ np.conjugate(np.transpose(marked_state))\n",
    "\n",
    "# System Description\n",
    "pmd = aqc_imps.DephasingGrover(Nq, init_state, marked_state, Sz)\n",
    "\n",
    "# Noise Specifications (In terms of the min energy gap)\n",
    "gap = 1/2**(Nq/2)\n",
    "noise_power = 0.01*gap**2\n",
    "noise_corr = 5.0*1/gap\n",
    "noise_amp = noise_power*noise_corr*2*np.sqrt(np.pi) # defined by mezze PSD\n",
    "\n",
    "# Time and Step-size Specifications\n",
    "t_gap = 1/gap\n",
    "dt = 1/8*t_gap\n",
    "dN = 100 # Number of time steps per dt\n",
    "num_realz = 100 # Number of noise realizations\n",
    "T = 4*t_gap # Total simulation time in units of the gap\n",
    "NN = int(T//dt)*dN\n",
    "\n",
    "# Simulation Configurations\n",
    "config_specs = {'num_runs': num_realz, 'sample_steps': 10, 'NN': NN,\n",
    "                'T': T, 'parallel': False, 'num_procs': 1}\n",
    "ideal_config_specs = copy.deepcopy(config_specs)\n",
    "ideal_config_specs['num_runs'] = 1\n",
    "ideal_config_specs['parallel'] = False\n",
    "\n",
    "# Noise Configurations\n",
    "noise_specs = {'amp': noise_amp, 'corr_time': noise_corr}\n",
    "ideal_noise_specs = {'amp': 0, 'corr_time': 1}\n",
    "\n",
    "\n",
    "# Run Ideal Evolution\n",
    "_, h_list = run_mezze_sim(pmd, ideal_config_specs, ideal_noise_specs)\n",
    "\n",
    "# Run Faulty Evolution\n",
    "report_faulty, _ = run_mezze_sim(pmd, config_specs, noise_specs)\n",
    "\n",
    "# Calculate Energy Difference\n",
    "snapshots = int(config_specs['NN']//config_specs['sample_steps'])\n",
    "p0_realz = np.zeros([num_realz, snapshots])\n",
    "for i in range(num_realz):\n",
    "    print(i)\n",
    "    for snap_idx in range(snapshots):\n",
    "        # Calculate Ground State Energy for 0<t<T\n",
    "        H = h_list[snap_idx*config_specs['sample_steps']]\n",
    "        Evals, Evecs = np.linalg.eigh(H)\n",
    "        P0 = np.conjugate(np.transpose([Evecs[0]])) @ [Evecs[0]]\n",
    "        Ut = report_faulty.time_samples[i][snap_idx].liouvillian()\n",
    "        rho_t = Ut @ rho_0 @ np.conjugate(np.transpose(Ut))\n",
    "        E0_avg = abs(Evals[0] - np.trace(rho_t @ H))\n",
    "        p0_realz[i][snap_idx] = np.real(E0_avg)"
   ]
  },
  {
   "cell_type": "code",
   "execution_count": null,
   "metadata": {
    "hidden": true
   },
   "outputs": [],
   "source": [
    "p0_mezze_data = [(jackknife_mean(p0_realz[:,i]), jackknife_mean_CI(p0_realz[:,i])) for i in range(snapshots)]\n",
    "p0_mezze_data = np.array(p0_mezze_data)"
   ]
  },
  {
   "cell_type": "code",
   "execution_count": null,
   "metadata": {
    "hidden": true
   },
   "outputs": [],
   "source": [
    "t_list = np.linspace(0,1,snapshots)\n",
    "fig = plt.figure(dpi=80)\n",
    "ax = fig.add_subplot(111)\n",
    "ax.plot(t_list, p0_mezze_data[:,0],'--')\n",
    "\n",
    "CI_data = p0_mezze_data[:,1]\n",
    "p0_top = np.array([CI_data[i][1] for i in range(len(CI_data))])\n",
    "p0_bottom = np.array([CI_data[i][0] for i in range(len(CI_data))])\n",
    "ax.fill_between(t_list, p0_top, p0_bottom, alpha=0.3)\n",
    "\n",
    "ax.set_xlabel('Normalized Time, $t/T$', fontsize=15)\n",
    "ax.set_ylabel(r'$|\\epsilon_0(t)-\\langle E(t)\\rangle|$', fontsize=15);"
   ]
  },
  {
   "cell_type": "markdown",
   "metadata": {
    "heading_collapsed": true
   },
   "source": [
    "### SchWARMA Simulation"
   ]
  },
  {
   "cell_type": "markdown",
   "metadata": {
    "hidden": true
   },
   "source": [
    "We effectively simulate $H_{err}(t)$ and the faulty Grover dynamics by introducing a SchWARMA model into the Trotterized evolution as\n",
    "\n",
    "$$\n",
    "    U(T)=\\exp\\left(-i\\int^T_0 H(t)dt\\right) \\approx \\prod^{N}_{j=1} U_E(t_j)U_{ad}(t_j, t_{j-1}),\n",
    "$$\n",
    "\n",
    "where $U_E(t_j)=\\exp(-i \\sum_k y^k_{j} S_k)$. The variables $y^k_{j}$ are defined by the underlying SchWARMA model and thus, they encapsulate the temporal properties of the noise. The evolution\n",
    "\n",
    "$$\n",
    "U_{ad}(t_j, t_{j-1}) = \\exp\\left(-i\\int^{t_j}_{t_{j-1}} H_{ad}(t)dt\\right)\\approx\\prod^{N_j}_{k=1}e^{-iH_{ad}(k\\delta t)\\delta t}\n",
    "$$\n",
    "\n",
    "represents the pure adiabatic dynamics that is Trotterized a number of steps $N_j=T/\\delta t$, where $\\delta t$ is the time resolution of the approximate evolution. Simulating the dynamics in this manner allows one to leverage the noiseless approximation of the adiabatic dynamics as a base for the faulty simulations."
   ]
  },
  {
   "cell_type": "code",
   "execution_count": null,
   "metadata": {
    "hidden": true
   },
   "outputs": [],
   "source": [
    "# System specifications\n",
    "Nq = 2\n",
    "\n",
    "# Operators\n",
    "su = np.array([[1],[0]])\n",
    "sd = np.array([[0],[1]])\n",
    "sp = 1.0/np.sqrt(2)*(su+sd)\n",
    "init_state = tensor_product([sp for i in range(Nq)])\n",
    "marked_state = tensor_product([su for i in range(Nq)])\n",
    "sz_list = build_sz_list(Nq)\n",
    "Sz = np.zeros((2**Nq, 2**Nq))\n",
    "for sz_j in sz_list:\n",
    "    Sz += sz_j\n",
    "noise_op = Sz\n",
    "\n",
    "# Initial State\n",
    "rho_0 = init_state @ np.conjugate(np.transpose(init_state))\n",
    "rho_target = marked_state @ np.conjugate(np.transpose(marked_state))\n",
    "\n",
    "# System Description\n",
    "pmd = aqc_imps.DephasingGrover(Nq, init_state, marked_state, Sz)\n",
    "\n",
    "# Noise Specifications (In terms of the min energy gap)\n",
    "gap = 1/2**(Nq/2)\n",
    "noise_power = 0.01*gap**2\n",
    "noise_corr = 5.0*1/gap\n",
    "noise_amp = noise_power*noise_corr*2*np.sqrt(np.pi) # defined by mezze PSD\n",
    "\n",
    "# Time and Step-size Specifications\n",
    "t_gap = 1/gap # Relevant time scale\n",
    "t_sample = 1/8*t_gap # Mezze sampling time in terms of min gap\n",
    "dN = 100 # Number of time steps per t_sample (effective number of gate time steps)\n",
    "num_realz = 500 # Number of noise realizations\n",
    "T = 4*t_gap # Total simulation time in units of the gap\n",
    "NN = int(T//t_sample)*dN # Number of Mezze time steps\n",
    "dt = T/NN # Mezze time resolution\n",
    "schwarma_every_n = int(dN) # Number of time steps before noise is added\n",
    "NN_schwarma = int(NN//schwarma_every_n) # Number of SchWARMA steps (Mezze snapshots)\n",
    "t_gate = schwarma_every_n*dt # SchWARMA time resolution\n",
    "\n",
    "# Ideal Simulation Configuration\n",
    "schwarma_config_specs = {'num_runs': 1, 'sample_steps': schwarma_every_n, \n",
    "                'NN': NN, 'T': T, 'parallel': False, 'num_procs': 1}\n",
    "schwarma_noise_specs = {'amp': 0, 'corr_time': 1}\n",
    "spectrum_config_specs = {'num_runs': 1, 'sample_steps': 10, 'parallel': False, 'num_procs': 1} # Used only to extract noise spectrum\n",
    "spectrum_config_specs['T'] = 10*T\n",
    "spectrum_config_specs['NN'] = NN\n",
    "\n",
    "# Run Ideal Evolution\n",
    "report, h_list = run_mezze_sim(pmd, schwarma_config_specs, schwarma_noise_specs)\n",
    "U_ideal_list = []\n",
    "U_prev = np.identity(len(noise_op))\n",
    "for i in range(NN_schwarma):\n",
    "    U_k = report.time_samples[0][i].liouvillian()\n",
    "    U_dt = U_k @ (U_prev.conj().T)\n",
    "    U_prev = U_k\n",
    "    U_ideal_list.append(U_dt)\n",
    "    \n",
    "# Noise Configuration\n",
    "a = [1,]\n",
    "spectrum_noise_specs = {'amp': noise_amp, 'corr_time': noise_corr}\n",
    "mezze_sim = run_mezze_sim(pmd, spectrum_config_specs, spectrum_noise_specs, return_sim_only=True)\n",
    "b = schwarma.extract_and_downconvert_from_sim(mezze_sim, t_gate)[0]\n",
    "\n",
    "# Run Faulty Evolution and Calculate Energy Difference\n",
    "p0_realz = np.zeros([num_realz, NN_schwarma])\n",
    "for i in range(num_realz):\n",
    "    print(i)\n",
    "    schwarma_angles = schwarma.schwarma_trajectory(NN_schwarma, a, b, amp=1)\n",
    "    U_faulty_list = schwarma_sim(U_ideal_list, noise_op, schwarma_angles)\n",
    "    \n",
    "    # Calculate GS Overlap for 0<t<T: |<psi(t)|0(t)>|^2\n",
    "    for snap_idx in range(NN_schwarma):\n",
    "        H = h_list[snap_idx*schwarma_config_specs['sample_steps']]\n",
    "        Evals, Evecs = np.linalg.eigh(H)\n",
    "        P0 = np.conjugate(np.transpose([Evecs[0]])) @ [Evecs[0]]\n",
    "        Ut = U_faulty_list[snap_idx]\n",
    "        rho_t = Ut @ rho_0 @ np.conjugate(np.transpose(Ut))\n",
    "        E0_avg = abs(Evals[0] - np.trace(rho_t @ H))\n",
    "        p0_realz[i][snap_idx] = np.real(E0_avg)"
   ]
  },
  {
   "cell_type": "code",
   "execution_count": null,
   "metadata": {
    "hidden": true
   },
   "outputs": [],
   "source": [
    "p0_schwarma_data = [(jackknife_mean(p0_realz[:,i]), jackknife_mean_CI(p0_realz[:,i])) for i in range(NN_schwarma)]\n",
    "p0_schwarma_data = np.array(p0_schwarma_data)"
   ]
  },
  {
   "cell_type": "code",
   "execution_count": null,
   "metadata": {
    "hidden": true
   },
   "outputs": [],
   "source": [
    "fig = plt.figure(dpi=80)\n",
    "ax = fig.add_subplot(111)\n",
    "\n",
    "# Mezze Data\n",
    "t_list = np.linspace(0,1,snapshots)\n",
    "ax.plot(t_list, p0_mezze_data[:,0],'--b', label='Mezze')\n",
    "CI_data = p0_mezze_data[:,1]\n",
    "p0_top = np.array([CI_data[i][1] for i in range(len(CI_data))])\n",
    "p0_bottom = np.array([CI_data[i][0] for i in range(len(CI_data))])\n",
    "ax.fill_between(t_list, p0_top, p0_bottom, color='b', alpha=0.3)\n",
    "\n",
    "# SchWARMA Data\n",
    "t_list = np.linspace(0,1,NN_schwarma)\n",
    "ax.plot(t_list, p0_schwarma_data[:,0],'--', color='orange', label='SchWARMA')\n",
    "CI_data = p0_schwarma_data[:,1]\n",
    "p0_top = np.array([CI_data[i][1] for i in range(len(CI_data))])\n",
    "p0_bottom = np.array([CI_data[i][0] for i in range(len(CI_data))])\n",
    "ax.fill_between(t_list, p0_top, p0_bottom, color='orange', alpha=0.3)\n",
    "\n",
    "ax.set_xlabel('Normalized Time, $t/T$', fontsize=15)\n",
    "ax.set_ylabel(r'$|\\epsilon_0(t)-\\langle E(t)\\rangle|$', fontsize=15)\n",
    "ax.legend(loc=4, fontsize=12)"
   ]
  },
  {
   "cell_type": "markdown",
   "metadata": {},
   "source": [
    "## SchWARMA vs. Mezze: Fidelity vs. Correlation Time"
   ]
  },
  {
   "cell_type": "markdown",
   "metadata": {},
   "source": [
    "In this section, we present code for reproducing the correlation time comparison shown in the appendix of the SchWARMA manuscript. We fix the total evolution time and vary the correlation time in units of the minimum energy gap between the ground state and first excited state of the ideal adiabatic Hamiltonian. We calculate fidelity via $F=\\langle \\Phi_0(T) |\\rho(T)|\\Phi_0(T)\\rangle$, where $|\\Phi_0(t)\\rangle$ is the time-dependent eigenstate of the pure adiabatic Hamiltonian, i.e. $H_{ad}(t)|\\Phi_0(t)\\rangle=\\epsilon_0(t)|\\Phi_0(t)\\rangle$. The time-evolved state $\\rho(t)=U(t)\\rho(0)U^{\\dagger}(t)$ is calculate via Mezze and SchWARMA."
   ]
  },
  {
   "cell_type": "markdown",
   "metadata": {
    "heading_collapsed": true
   },
   "source": [
    "### Mezze Simulation"
   ]
  },
  {
   "cell_type": "code",
   "execution_count": null,
   "metadata": {
    "hidden": true
   },
   "outputs": [],
   "source": [
    "'''\n",
    "WARNING: This simulation can be time consuming, especially if not performed using multiprocessing\n",
    "'''\n",
    "\n",
    "# System specifications\n",
    "Nq = 2\n",
    "\n",
    "# Operators\n",
    "su = np.array([[1],[0]])\n",
    "sd = np.array([[0],[1]])\n",
    "sp = 1.0/np.sqrt(2)*(su+sd)\n",
    "init_state = tensor_product([sp for i in range(Nq)])\n",
    "marked_state = tensor_product([su for i in range(Nq)])\n",
    "sz_list = build_sz_list(Nq)\n",
    "Sz = np.zeros((2**Nq, 2**Nq))\n",
    "for sz_j in sz_list:\n",
    "    Sz += sz_j\n",
    "\n",
    "# Initial State\n",
    "rho_0 = init_state @ np.conjugate(np.transpose(init_state))\n",
    "rho_target = marked_state @ np.conjugate(np.transpose(marked_state))\n",
    "\n",
    "# System Description\n",
    "pmd = aqc_imps.DephasingGrover(Nq, init_state, marked_state, Sz)\n",
    "\n",
    "# Noise Specifications (In terms of the min energy gap)\n",
    "gap = 1/2**(Nq/2)\n",
    "noise_power = 0.001*gap**2\n",
    "\n",
    "# Time and Step-size Specifications\n",
    "t_gap = 1/gap\n",
    "dt = 1/4*t_gap\n",
    "dN = 100 # Number of time steps per dt\n",
    "num_realz = 100 # Number of noise realizations (Increase to 1000 for improved results)\n",
    "T = 10*t_gap # Total simulation time in units of the gap\n",
    "NN = int(T//dt)*dN\n",
    "\n",
    "# Simulation Configurations\n",
    "config_specs = {'num_runs': num_realz, 'sample_steps': 10, 'NN': NN,\n",
    "                'T': T, 'parallel': False, 'num_procs': 1}\n",
    "\n",
    "# Main Simulation: Varying Correlation Time\n",
    "t_corr_min = 0.1\n",
    "t_corr_max = 10.0\n",
    "noise_corr_list = np.logspace(np.log10(t_corr_min), \n",
    "                              np.log10(t_corr_max), 150)[::10]*1/gap # remove skip by 10 for manuscript plot\n",
    "mezze_corr_data = []\n",
    "for noise_corr in noise_corr_list:\n",
    "    print(r'tau_c = %2.4f' % noise_corr)\n",
    "    noise_amp = noise_power*noise_corr*2*np.sqrt(np.pi) # defined by mezze PSD\n",
    "    \n",
    "    # Noise Configurations\n",
    "    noise_specs = {'amp': noise_amp, 'corr_time': noise_corr}\n",
    "\n",
    "    # Run Faulty Simulation\n",
    "    report_faulty, _ = run_mezze_sim(pmd, config_specs, noise_specs)\n",
    "    \n",
    "    # Calculate Average Fidelity\n",
    "    F_realz = []\n",
    "    for i in range(num_realz):\n",
    "        Ut = report_faulty.time_samples[i][-1].liouvillian()\n",
    "        rho_t = Ut @ rho_0 @ np.conjugate(np.transpose(Ut))\n",
    "        F = np.trace(rho_t @ rho_target)\n",
    "        F_realz.append(F)\n",
    "    \n",
    "    # Compute Statistics\n",
    "    F_med = jackknife_mean(F_realz)\n",
    "    F_ci = jackknife_mean_CI(F_realz)\n",
    "    mezze_corr_data.append( [noise_corr*gap, F_med, F_ci] )"
   ]
  },
  {
   "cell_type": "code",
   "execution_count": null,
   "metadata": {
    "hidden": true
   },
   "outputs": [],
   "source": [
    "mezze_corr_data = np.array(mezze_corr_data)\n",
    "fig = plt.figure(dpi=70)\n",
    "ax = fig.add_subplot(111)\n",
    "ax.plot(mezze_corr_data[:,0], mezze_corr_data[:,1])\n",
    "\n",
    "CI_data = mezze_corr_data[:,2]\n",
    "p0_top = np.array([CI_data[i][1] for i in range(len(CI_data))])\n",
    "p0_bottom = np.array([CI_data[i][0] for i in range(len(CI_data))])\n",
    "ax.fill_between(list(mezze_corr_data[:,0]), p0_top, p0_bottom, alpha=0.3)\n",
    "\n",
    "ax.set_xlabel(r'Correlation Time, $\\tau_c$ ($1/\\Delta_{min}$)', fontsize=15)\n",
    "ax.set_ylabel(r'Fidelity', fontsize=15);\n",
    "ax.set_xscale('log')"
   ]
  },
  {
   "cell_type": "markdown",
   "metadata": {
    "heading_collapsed": true
   },
   "source": [
    "### SchWARMA Simulation"
   ]
  },
  {
   "cell_type": "code",
   "execution_count": null,
   "metadata": {
    "hidden": true
   },
   "outputs": [],
   "source": [
    "'''\n",
    "WARNING: This simulation can be time consuming, especially if not performed using multiprocessing\n",
    "'''\n",
    "\n",
    "# System specifications\n",
    "Nq = 2\n",
    "\n",
    "# Operators\n",
    "su = np.array([[1],[0]])\n",
    "sd = np.array([[0],[1]])\n",
    "sp = 1.0/np.sqrt(2)*(su+sd)\n",
    "init_state = tensor_product([sp for i in range(Nq)])\n",
    "marked_state = tensor_product([su for i in range(Nq)])\n",
    "sz_list = build_sz_list(Nq)\n",
    "Sz = np.zeros((2**Nq, 2**Nq))\n",
    "for sz_j in sz_list:\n",
    "    Sz += sz_j\n",
    "noise_op = Sz\n",
    "\n",
    "# Initial State\n",
    "rho_0 = init_state @ np.conjugate(np.transpose(init_state))\n",
    "rho_target = marked_state @ np.conjugate(np.transpose(marked_state))\n",
    "\n",
    "# System Description\n",
    "pmd = aqc_imps.DephasingGrover(Nq, init_state, marked_state, Sz)\n",
    "\n",
    "# Noise Specifications (In terms of the min energy gap)\n",
    "gap = 1/2**(Nq/2)\n",
    "noise_power = 0.001*gap**2\n",
    "\n",
    "# Time and Step-size Specifications\n",
    "t_gap = 1/gap # Relevant time scale\n",
    "t_sample = 1/4*t_gap # Mezze sampling time in terms of min gap\n",
    "dN = 100 # Number of time steps per t_sample (effective number of gate time steps)\n",
    "num_realz = 200 # Number of noise realizations (Increase to 1000 for improved results)\n",
    "T = 10*t_gap # Total simulation time in units of the gap\n",
    "NN = int(T//t_sample)*dN # Number of Mezze time steps\n",
    "dt = T/NN # Mezze time resolution\n",
    "schwarma_every_n = int(dN) # Number of time steps before noise is added\n",
    "NN_schwarma = int(NN//schwarma_every_n) # Number of SchWARMA steps (Mezze snapshots)\n",
    "t_gate = schwarma_every_n*dt # SchWARMA time resolution\n",
    "\n",
    "# Ideal Simulation Configuration\n",
    "schwarma_config_specs = {'num_runs': 1, 'sample_steps': schwarma_every_n, \n",
    "                'NN': NN, 'T': T, 'parallel': False, 'num_procs': 1}\n",
    "schwarma_noise_specs = {'amp': 0, 'corr_time': 1}\n",
    "spectrum_config_specs = {'num_runs': 1, 'sample_steps': 10, 'parallel': False, 'num_procs': 1} # Used only to extract noise spectrum\n",
    "spectrum_config_specs['T'] = 30*T\n",
    "spectrum_config_specs['NN'] = int(spectrum_config_specs['T']/t_sample)*dN\n",
    "\n",
    "# Run Ideal Evolution\n",
    "report, h_list = run_mezze_sim(pmd, schwarma_config_specs, schwarma_noise_specs)\n",
    "U_ideal_list = []\n",
    "U_prev = np.identity(len(noise_op))\n",
    "for i in range(NN_schwarma):\n",
    "    U_k = report.time_samples[0][i].liouvillian()\n",
    "    U_dt = U_k @ (U_prev.conj().T)\n",
    "    U_prev = U_k\n",
    "    U_ideal_list.append(U_dt)\n",
    "\n",
    "# Main Simulation: Varying Correlation Time\n",
    "t_corr_min = 0.1\n",
    "t_corr_max = 10.0\n",
    "noise_corr_list = np.logspace(np.log10(t_corr_min), \n",
    "                              np.log10(t_corr_max), 150)[::10]*1/gap\n",
    "schwarma_corr_data = []\n",
    "for noise_corr in noise_corr_list:\n",
    "    print(r'tau_c = %2.4f' % noise_corr)\n",
    "    # Noise Configuration\n",
    "    a = [1,]\n",
    "    noise_amp = noise_power*noise_corr*2*np.sqrt(np.pi) # defined by mezze PSD\n",
    "    spectrum_noise_specs = {'amp': noise_amp, 'corr_time': noise_corr}\n",
    "    mezze_sim = run_mezze_sim(pmd, spectrum_config_specs, spectrum_noise_specs, return_sim_only=True)\n",
    "    b = schwarma.extract_and_downconvert_from_sim(mezze_sim, t_gate)[0]\n",
    "    # SchWARMA Faulty Evolution\n",
    "    F_realz = []\n",
    "    for i in range(num_realz):\n",
    "        schwarma_angles = schwarma.schwarma_trajectory(NN_schwarma, a, b, amp=1)\n",
    "        U_faulty_list = schwarma_sim(U_ideal_list, noise_op, schwarma_angles)\n",
    "        Ut = U_faulty_list[-1]\n",
    "        rho_t = Ut @ rho_0 @ np.conjugate(np.transpose(Ut))\n",
    "        F = np.trace(rho_t @ rho_target)\n",
    "        F_realz.append(np.real(F))\n",
    "    #F_med = jackknife_median(F_realz)\n",
    "    #F_ci = jackknife_median_CI(F_realz)\n",
    "    F_med = jackknife_mean(F_realz)\n",
    "    F_ci = jackknife_mean_CI(F_realz)\n",
    "    schwarma_corr_data.append( [noise_corr*gap, F_med, F_ci] )\n",
    "schwarma_corr_data = np.array(schwarma_corr_data)"
   ]
  },
  {
   "cell_type": "code",
   "execution_count": null,
   "metadata": {
    "hidden": true
   },
   "outputs": [],
   "source": [
    "fig = plt.figure(dpi=70)\n",
    "ax = fig.add_subplot(111)\n",
    "\n",
    "# SchWARMA Data\n",
    "ax.plot(schwarma_corr_data[:,0], schwarma_corr_data[:,1],'--', label='SchWARMA')\n",
    "CI_data = schwarma_corr_data[:,2]\n",
    "p0_top = np.array([CI_data[i][1] for i in range(len(CI_data))])\n",
    "p0_bottom = np.array([CI_data[i][0] for i in range(len(CI_data))])\n",
    "ax.fill_between(list(schwarma_corr_data[:,0]), p0_top, p0_bottom, alpha=0.3, color='b')\n",
    "\n",
    "# Mezze Data\n",
    "mezze_corr_data = np.array(mezze_corr_data)\n",
    "ax.plot(mezze_corr_data[:,0], mezze_corr_data[:,1], 'orange', linestyle='--', label='Mezze')\n",
    "CI_data = mezze_corr_data[:,2]\n",
    "p0_top = np.array([CI_data[i][1] for i in range(len(CI_data))])\n",
    "p0_bottom = np.array([CI_data[i][0] for i in range(len(CI_data))])\n",
    "ax.fill_between(list(mezze_corr_data[:,0]), p0_top, p0_bottom, alpha=0.3, color='orange')\n",
    "\n",
    "ax.set_xlabel(r'Correlation Time, $\\tau_c$ ($1/\\Delta_{min}$)', fontsize=15)\n",
    "ax.set_ylabel(r'Fidelity', fontsize=15);\n",
    "ax.set_xscale('log')\n",
    "ax.set_ylim([0.97,1])\n",
    "ax.legend(loc=3, fontsize=15)"
   ]
  },
  {
   "cell_type": "markdown",
   "metadata": {
    "hidden": true
   },
   "source": [
    "Increasing the number of noise realizations to 1000 produces the results shown below and in the SchWARMA manuscript."
   ]
  },
  {
   "cell_type": "code",
   "execution_count": null,
   "metadata": {
    "hidden": true
   },
   "outputs": [],
   "source": [
    "import pickle as pk\n",
    "Nq = 2\n",
    "s_pow = 0.001\n",
    "NN = 4000\n",
    "NNsch = 100\n",
    "\n",
    "fig = plt.figure(dpi=70)\n",
    "ax = fig.add_subplot(111)\n",
    "\n",
    "directory = './data/'\n",
    "# SchWARMA\n",
    "tau_c = 7.57\n",
    "fname = 'grover_dephasing_schwarma_RC_corr_Nq%d_NN%d_NNsch%d_Sw%1.4f_NC%1.2f-v0.p' % (Nq, NN, NNsch, s_pow, tau_c)\n",
    "sch_fid2 = pk.load(open(directory + fname, 'rb'))\n",
    "ax.plot(sch_fid2[:,0], sch_fid2[:,1], 'o', color = '#fc5a50', markerfacecolor='None', label=r'SchWARMA')\n",
    "\n",
    "# Mezze\n",
    "tau_c = 10.0\n",
    "fname = 'grover_dephasing_corr_RC_Nq%d_NN%d_Sw%1.4f_NC%1.2f.p' % (Nq, NN, s_pow, tau_c)\n",
    "mezze_fid2 = pk.load(open(directory + fname, 'rb'))\n",
    "ax.plot(mezze_fid2[:,0], mezze_fid2[:,1], linestyle='-', color = '#00035b', label='Mezze')\n",
    "\n",
    "ax.set_xlabel(r'Correlation Time, $\\tau_c$ ($1/\\Delta_{min}$)', fontsize=15)\n",
    "ax.set_ylabel(r'Fidelity', fontsize=15);\n",
    "ax.set_xscale('log')\n",
    "ax.set_ylim([0.97,1])\n",
    "ax.legend(loc=3, fontsize=15)"
   ]
  },
  {
   "cell_type": "markdown",
   "metadata": {},
   "source": [
    "## References"
   ]
  },
  {
   "cell_type": "markdown",
   "metadata": {},
   "source": [
    "[1] J. Roland and N. Cerf, Phys. Rev. A 65, 042308 (2002)\n",
    "\n",
    "[2] A.T. Rezakhani, W.-J. Kuo, A. Hamma, D.A. Lidar, and P. Zanardi, Phys. Rev. Lett. 103, 080502 (2009)"
   ]
  }
 ],
 "metadata": {
  "kernelspec": {
   "display_name": "Python 3",
   "language": "python",
   "name": "python3"
  },
  "language_info": {
   "codemirror_mode": {
    "name": "ipython",
    "version": 3
   },
   "file_extension": ".py",
   "mimetype": "text/x-python",
   "name": "python",
   "nbconvert_exporter": "python",
   "pygments_lexer": "ipython3",
   "version": "3.6.10"
  }
 },
 "nbformat": 4,
 "nbformat_minor": 4
}
