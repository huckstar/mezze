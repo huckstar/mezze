{
 "cells": [
  {
   "cell_type": "code",
   "execution_count": null,
   "metadata": {},
   "outputs": [],
   "source": [
    "import mezze\n",
    "import numpy as np"
   ]
  },
  {
   "cell_type": "markdown",
   "metadata": {},
   "source": [
    "The first use case considered is to execute a simulation of 1 second simulation time with 1000 time steps, i.e. $\\Delta T$=0.001 sec.  100 Monte Carlo runs are performed in a parallel fashion.  For purposes of this demonstration, zero-valued controls are used, creating a (very) noisy identity channel."
   ]
  },
  {
   "cell_type": "code",
   "execution_count": null,
   "metadata": {},
   "outputs": [],
   "source": [
    "config = mezze.simulation.SimulationConfig(time_length=1.,num_steps=1000)\n",
    "config.parallel = True\n",
    "config.num_runs = 100\n",
    "pmd = mezze.implementations.XYZ_noise_XY_control_Qubit()\n",
    "ham = mezze.hamiltonian.HamiltonianFunction(pmd)\n",
    "ctrls = np.zeros((1000,3))\n",
    "pham = mezze.hamiltonian.PrecomputedHamiltonian(pmd, ctrls, config, ham.get_function())\n",
    "sim = mezze.simulation.Simulation(config,pmd,pham)"
   ]
  },
  {
   "cell_type": "markdown",
   "metadata": {},
   "source": [
    "The following block actually executes the simulation and returns a report containing the output."
   ]
  },
  {
   "cell_type": "code",
   "execution_count": null,
   "metadata": {},
   "outputs": [],
   "source": [
    "report = sim.run()"
   ]
  },
  {
   "cell_type": "markdown",
   "metadata": {},
   "source": [
    "The key element of this report is a `QuantumChannel` object that is the Monte Carlo estimate of the specified PMD and input control."
   ]
  },
  {
   "cell_type": "code",
   "execution_count": null,
   "metadata": {},
   "outputs": [],
   "source": [
    "report.channel.liouvillian()"
   ]
  },
  {
   "cell_type": "code",
   "execution_count": null,
   "metadata": {},
   "outputs": [],
   "source": [
    "report.channel.chi()"
   ]
  },
  {
   "cell_type": "markdown",
   "metadata": {},
   "source": [
    "The next example is similar to the first, except that we have configured the simulation to store *both* each monte carlo realization, as well as to include incremental data taken every 500 time steps.  These can be used independently.  For illustration purposes, only 3 Monte Carlo runs will be performed."
   ]
  },
  {
   "cell_type": "code",
   "execution_count": null,
   "metadata": {},
   "outputs": [],
   "source": [
    "config = mezze.simulation.SimulationConfig(time_length=1.,num_steps=1000)\n",
    "config.parallel = True\n",
    "config.num_runs = 3\n",
    "\n",
    "# Store all the samples being averaged over\n",
    "config.realization_sampling = True\n",
    "\n",
    "# Also keep intermediate realizations every 500 time steps\n",
    "config.time_sampling = True\n",
    "config.sampling_interval = 500\n",
    "\n",
    "pmd = mezze.implementations.XYZ_noise_XY_control_Qubit()\n",
    "ham = mezze.hamiltonian.HamiltonianFunction(pmd)\n",
    "ctrls = np.zeros((1000,2))\n",
    "pham = mezze.hamiltonian.PrecomputedHamiltonian(pmd, ctrls, config, ham.get_function())\n",
    "sim = mezze.simulation.Simulation(config,pmd,pham)"
   ]
  },
  {
   "cell_type": "code",
   "execution_count": null,
   "metadata": {},
   "outputs": [],
   "source": [
    "report = sim.run()"
   ]
  },
  {
   "cell_type": "markdown",
   "metadata": {},
   "source": [
    "`report.channel` still contains the Monte Carlo estimate of the gate at the specified end time of the simulation."
   ]
  },
  {
   "cell_type": "code",
   "execution_count": null,
   "metadata": {},
   "outputs": [],
   "source": [
    "report.channel"
   ]
  },
  {
   "cell_type": "markdown",
   "metadata": {},
   "source": [
    "The individual samples that are averaged in to `report.channel` are in `report.liouvillian_samples`. Note there are 3, as specified in `config.num_runs`"
   ]
  },
  {
   "cell_type": "code",
   "execution_count": null,
   "metadata": {},
   "outputs": [],
   "source": [
    "report.liouvillian_samples"
   ]
  },
  {
   "cell_type": "markdown",
   "metadata": {},
   "source": [
    "The sub-sampled trajectories are stored in `report.time_samples`.  Since the sampling interval was set to 500, each of the 3 Monte Carlo trajectories is sampled 1000/500=2 times.  If `config.realization_sampling` were set to false, a list containing the average channel each increment would be reported."
   ]
  },
  {
   "cell_type": "code",
   "execution_count": null,
   "metadata": {},
   "outputs": [],
   "source": [
    "report.time_samples"
   ]
  },
  {
   "cell_type": "markdown",
   "metadata": {},
   "source": [
    "As a final example, this time we set a convergence tolerance (far too high for real usage), rather than a fixed number of runs.  While this mode is compatible with `realization_sampling` the number of runs required for a small convergence criterion will likely result in too many samples to comfortably store."
   ]
  },
  {
   "cell_type": "code",
   "execution_count": null,
   "metadata": {},
   "outputs": [],
   "source": [
    "config = mezze.simulation.SimulationConfig(time_length=1.,num_steps=1000)\n",
    "config.parallel = True\n",
    "\n",
    "#Do blocks of runs until convergence tolerance reached\n",
    "config.num_runs = 4# Set to number of cpus you want to use\n",
    "config.run_to_convergence = True\n",
    "config.convergence_tolerance = 1e-3\n",
    "config.num_runs_below_tolerance = 1\n",
    "\n",
    "pmd = mezze.implementations.XYZ_noise_XY_control_Qubit()\n",
    "ham = mezze.hamiltonian.HamiltonianFunction(pmd)\n",
    "ctrls = np.zeros((1000,2))\n",
    "pham = mezze.hamiltonian.PrecomputedHamiltonian(pmd, ctrls, config, ham.get_function())\n",
    "sim = mezze.simulation.Simulation(config,pmd,pham)"
   ]
  },
  {
   "cell_type": "code",
   "execution_count": null,
   "metadata": {},
   "outputs": [],
   "source": [
    "report = sim.run()"
   ]
  },
  {
   "cell_type": "markdown",
   "metadata": {},
   "source": [
    "`report.num_runs` keeps track of the total number of Monte Carlo runs performed, which is really only informative when a convergence tolerance is used."
   ]
  },
  {
   "cell_type": "code",
   "execution_count": null,
   "metadata": {},
   "outputs": [],
   "source": [
    "print(report.num_runs)"
   ]
  },
  {
   "cell_type": "code",
   "execution_count": null,
   "metadata": {},
   "outputs": [],
   "source": []
  }
 ],
 "metadata": {
  "kernelspec": {
   "display_name": "mezzeexport",
   "language": "python",
   "name": "mezzeexport"
  },
  "language_info": {
   "codemirror_mode": {
    "name": "ipython",
    "version": 3
   },
   "file_extension": ".py",
   "mimetype": "text/x-python",
   "name": "python",
   "nbconvert_exporter": "python",
   "pygments_lexer": "ipython3",
   "version": "3.7.3"
  }
 },
 "nbformat": 4,
 "nbformat_minor": 4
}
